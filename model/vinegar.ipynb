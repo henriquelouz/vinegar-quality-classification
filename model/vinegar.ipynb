{
 "cells": [
  {
   "cell_type": "markdown",
   "id": "b4fed810-00c4-4c4a-a763-b1dceb385880",
   "metadata": {},
   "source": [
    "# Dependencies"
   ]
  },
  {
   "cell_type": "code",
   "execution_count": 1,
   "id": "d7796aa7-9cd1-49aa-b924-835afb53a80b",
   "metadata": {},
   "outputs": [],
   "source": [
    "import numpy as np\n",
    "import pandas as pd"
   ]
  },
  {
   "cell_type": "markdown",
   "id": "38a867ac-f67b-4817-93d1-abddd9b4f693",
   "metadata": {},
   "source": [
    "# Load"
   ]
  },
  {
   "cell_type": "code",
   "execution_count": 2,
   "id": "c36aa9f9-b9b3-4b84-9e76-c2afc7f799f4",
   "metadata": {},
   "outputs": [
    {
     "data": {
      "text/html": [
       "<div>\n",
       "<style scoped>\n",
       "    .dataframe tbody tr th:only-of-type {\n",
       "        vertical-align: middle;\n",
       "    }\n",
       "\n",
       "    .dataframe tbody tr th {\n",
       "        vertical-align: top;\n",
       "    }\n",
       "\n",
       "    .dataframe thead th {\n",
       "        text-align: right;\n",
       "    }\n",
       "</style>\n",
       "<table border=\"1\" class=\"dataframe\">\n",
       "  <thead>\n",
       "    <tr style=\"text-align: right;\">\n",
       "      <th></th>\n",
       "      <th>distributor</th>\n",
       "      <th>fixed acidity</th>\n",
       "      <th>country</th>\n",
       "      <th>volatile acidity</th>\n",
       "      <th>citric acid</th>\n",
       "      <th>residual sugar</th>\n",
       "      <th>chlorides</th>\n",
       "      <th>free sulfur dioxide</th>\n",
       "      <th>total sulfur dioxide</th>\n",
       "      <th>density</th>\n",
       "      <th>pH</th>\n",
       "      <th>sulphates</th>\n",
       "      <th>alcohol</th>\n",
       "      <th>quality</th>\n",
       "    </tr>\n",
       "  </thead>\n",
       "  <tbody>\n",
       "    <tr>\n",
       "      <th>6386</th>\n",
       "      <td>lost watch</td>\n",
       "      <td>5.6</td>\n",
       "      <td>atlantida</td>\n",
       "      <td>0.54</td>\n",
       "      <td>0.04</td>\n",
       "      <td>1.7</td>\n",
       "      <td>0.049</td>\n",
       "      <td>5.0</td>\n",
       "      <td>13.0</td>\n",
       "      <td>0.99420</td>\n",
       "      <td>3.72</td>\n",
       "      <td>0.58</td>\n",
       "      <td>11.4</td>\n",
       "      <td>5</td>\n",
       "    </tr>\n",
       "    <tr>\n",
       "      <th>5078</th>\n",
       "      <td>lost watch</td>\n",
       "      <td>8.8</td>\n",
       "      <td>atlantida</td>\n",
       "      <td>0.61</td>\n",
       "      <td>0.14</td>\n",
       "      <td>2.4</td>\n",
       "      <td>0.067</td>\n",
       "      <td>10.0</td>\n",
       "      <td>42.0</td>\n",
       "      <td>0.99690</td>\n",
       "      <td>3.19</td>\n",
       "      <td>0.59</td>\n",
       "      <td>9.5</td>\n",
       "      <td>5</td>\n",
       "    </tr>\n",
       "    <tr>\n",
       "      <th>3901</th>\n",
       "      <td>reine ltda</td>\n",
       "      <td>4.8</td>\n",
       "      <td>unit emirate arab</td>\n",
       "      <td>0.65</td>\n",
       "      <td>0.12</td>\n",
       "      <td>1.1</td>\n",
       "      <td>0.013</td>\n",
       "      <td>4.0</td>\n",
       "      <td>10.0</td>\n",
       "      <td>0.99246</td>\n",
       "      <td>3.32</td>\n",
       "      <td>0.36</td>\n",
       "      <td>13.5</td>\n",
       "      <td>4</td>\n",
       "    </tr>\n",
       "    <tr>\n",
       "      <th>3346</th>\n",
       "      <td>tico cat</td>\n",
       "      <td>6.7</td>\n",
       "      <td>south africa</td>\n",
       "      <td>0.18</td>\n",
       "      <td>0.24</td>\n",
       "      <td>10.3</td>\n",
       "      <td>0.057</td>\n",
       "      <td>64.0</td>\n",
       "      <td>185.0</td>\n",
       "      <td>0.99519</td>\n",
       "      <td>3.12</td>\n",
       "      <td>0.50</td>\n",
       "      <td>10.6</td>\n",
       "      <td>6</td>\n",
       "    </tr>\n",
       "    <tr>\n",
       "      <th>3992</th>\n",
       "      <td>reine ltda</td>\n",
       "      <td>6.7</td>\n",
       "      <td>unit emirate arab</td>\n",
       "      <td>0.19</td>\n",
       "      <td>0.32</td>\n",
       "      <td>3.7</td>\n",
       "      <td>0.041</td>\n",
       "      <td>26.0</td>\n",
       "      <td>76.0</td>\n",
       "      <td>0.99173</td>\n",
       "      <td>2.90</td>\n",
       "      <td>0.57</td>\n",
       "      <td>10.5</td>\n",
       "      <td>7</td>\n",
       "    </tr>\n",
       "  </tbody>\n",
       "</table>\n",
       "</div>"
      ],
      "text/plain": [
       "     distributor  fixed acidity            country  volatile acidity  \\\n",
       "6386  lost watch            5.6          atlantida              0.54   \n",
       "5078  lost watch            8.8          atlantida              0.61   \n",
       "3901  reine ltda            4.8  unit emirate arab              0.65   \n",
       "3346    tico cat            6.7       south africa              0.18   \n",
       "3992  reine ltda            6.7  unit emirate arab              0.19   \n",
       "\n",
       "      citric acid  residual sugar  chlorides  free sulfur dioxide  \\\n",
       "6386         0.04             1.7      0.049                  5.0   \n",
       "5078         0.14             2.4      0.067                 10.0   \n",
       "3901         0.12             1.1      0.013                  4.0   \n",
       "3346         0.24            10.3      0.057                 64.0   \n",
       "3992         0.32             3.7      0.041                 26.0   \n",
       "\n",
       "      total sulfur dioxide  density    pH  sulphates alcohol  quality  \n",
       "6386                  13.0  0.99420  3.72       0.58    11.4        5  \n",
       "5078                  42.0  0.99690  3.19       0.59     9.5        5  \n",
       "3901                  10.0  0.99246  3.32       0.36    13.5        4  \n",
       "3346                 185.0  0.99519  3.12       0.50    10.6        6  \n",
       "3992                  76.0  0.99173  2.90       0.57    10.5        7  "
      ]
     },
     "execution_count": 2,
     "metadata": {},
     "output_type": "execute_result"
    }
   ],
   "source": [
    "df = pd.read_csv(\"dataset.csv\")\n",
    "df.sample(5)"
   ]
  },
  {
   "cell_type": "markdown",
   "id": "7121f2df-5e5c-466a-b454-5925943e99c9",
   "metadata": {},
   "source": [
    "# Manipulação de dados"
   ]
  },
  {
   "cell_type": "markdown",
   "id": "b6365726-f757-4aa7-a5dd-ff1154c16109",
   "metadata": {},
   "source": [
    "## 1. Groupby"
   ]
  },
  {
   "cell_type": "code",
   "execution_count": 3,
   "id": "ba163f52-4803-4353-a107-4d897ee921f8",
   "metadata": {},
   "outputs": [
    {
     "data": {
      "text/html": [
       "<div>\n",
       "<style scoped>\n",
       "    .dataframe tbody tr th:only-of-type {\n",
       "        vertical-align: middle;\n",
       "    }\n",
       "\n",
       "    .dataframe tbody tr th {\n",
       "        vertical-align: top;\n",
       "    }\n",
       "\n",
       "    .dataframe thead th {\n",
       "        text-align: right;\n",
       "    }\n",
       "</style>\n",
       "<table border=\"1\" class=\"dataframe\">\n",
       "  <thead>\n",
       "    <tr style=\"text-align: right;\">\n",
       "      <th></th>\n",
       "      <th>distributor</th>\n",
       "      <th>fixed acidity</th>\n",
       "      <th>pH</th>\n",
       "    </tr>\n",
       "  </thead>\n",
       "  <tbody>\n",
       "    <tr>\n",
       "      <th>0</th>\n",
       "      <td>boutique chic</td>\n",
       "      <td>6.842359</td>\n",
       "      <td>3.201796</td>\n",
       "    </tr>\n",
       "    <tr>\n",
       "      <th>1</th>\n",
       "      <td>ice danone</td>\n",
       "      <td>6.917132</td>\n",
       "      <td>3.217246</td>\n",
       "    </tr>\n",
       "    <tr>\n",
       "      <th>2</th>\n",
       "      <td>last poet</td>\n",
       "      <td>7.327224</td>\n",
       "      <td>3.188113</td>\n",
       "    </tr>\n",
       "    <tr>\n",
       "      <th>3</th>\n",
       "      <td>lost watch</td>\n",
       "      <td>7.693617</td>\n",
       "      <td>3.268851</td>\n",
       "    </tr>\n",
       "    <tr>\n",
       "      <th>4</th>\n",
       "      <td>reine ltda</td>\n",
       "      <td>6.678153</td>\n",
       "      <td>3.147750</td>\n",
       "    </tr>\n",
       "    <tr>\n",
       "      <th>5</th>\n",
       "      <td>tico cat</td>\n",
       "      <td>7.010320</td>\n",
       "      <td>3.193895</td>\n",
       "    </tr>\n",
       "  </tbody>\n",
       "</table>\n",
       "</div>"
      ],
      "text/plain": [
       "     distributor  fixed acidity        pH\n",
       "0  boutique chic       6.842359  3.201796\n",
       "1     ice danone       6.917132  3.217246\n",
       "2      last poet       7.327224  3.188113\n",
       "3     lost watch       7.693617  3.268851\n",
       "4     reine ltda       6.678153  3.147750\n",
       "5       tico cat       7.010320  3.193895"
      ]
     },
     "execution_count": 3,
     "metadata": {},
     "output_type": "execute_result"
    }
   ],
   "source": [
    "df_by_distributor = df.groupby(\"distributor\")[[\"fixed acidity\", \"pH\"]].mean()\n",
    "df_by_distributor = df_by_distributor.reset_index()\n",
    "df_by_distributor"
   ]
  },
  {
   "cell_type": "markdown",
   "id": "61bc51e7-e23b-4b29-bc7e-c2b108780391",
   "metadata": {},
   "source": [
    "## 2. Merge"
   ]
  },
  {
   "cell_type": "code",
   "execution_count": 4,
   "id": "cbad67fe-c58d-43a5-ad30-818ca1192a8d",
   "metadata": {},
   "outputs": [
    {
     "data": {
      "text/html": [
       "<div>\n",
       "<style scoped>\n",
       "    .dataframe tbody tr th:only-of-type {\n",
       "        vertical-align: middle;\n",
       "    }\n",
       "\n",
       "    .dataframe tbody tr th {\n",
       "        vertical-align: top;\n",
       "    }\n",
       "\n",
       "    .dataframe thead th {\n",
       "        text-align: right;\n",
       "    }\n",
       "</style>\n",
       "<table border=\"1\" class=\"dataframe\">\n",
       "  <thead>\n",
       "    <tr style=\"text-align: right;\">\n",
       "      <th></th>\n",
       "      <th>distributor</th>\n",
       "      <th>fixed acidity</th>\n",
       "      <th>country</th>\n",
       "      <th>volatile acidity</th>\n",
       "      <th>citric acid</th>\n",
       "      <th>residual sugar</th>\n",
       "      <th>chlorides</th>\n",
       "      <th>free sulfur dioxide</th>\n",
       "      <th>total sulfur dioxide</th>\n",
       "      <th>density</th>\n",
       "      <th>pH</th>\n",
       "      <th>sulphates</th>\n",
       "      <th>alcohol</th>\n",
       "      <th>quality</th>\n",
       "      <th>fixed acidity mean</th>\n",
       "      <th>pH mean</th>\n",
       "    </tr>\n",
       "  </thead>\n",
       "  <tbody>\n",
       "    <tr>\n",
       "      <th>543</th>\n",
       "      <td>ice danone</td>\n",
       "      <td>6.7</td>\n",
       "      <td>portugal</td>\n",
       "      <td>0.24</td>\n",
       "      <td>0.41</td>\n",
       "      <td>8.7</td>\n",
       "      <td>0.036</td>\n",
       "      <td>29.0</td>\n",
       "      <td>148.0</td>\n",
       "      <td>0.9952</td>\n",
       "      <td>3.22</td>\n",
       "      <td>0.62</td>\n",
       "      <td>9.9</td>\n",
       "      <td>6</td>\n",
       "      <td>6.917132</td>\n",
       "      <td>3.217246</td>\n",
       "    </tr>\n",
       "    <tr>\n",
       "      <th>1362</th>\n",
       "      <td>last poet</td>\n",
       "      <td>6.4</td>\n",
       "      <td>greenland</td>\n",
       "      <td>0.25</td>\n",
       "      <td>0.33</td>\n",
       "      <td>1.4</td>\n",
       "      <td>0.040</td>\n",
       "      <td>42.0</td>\n",
       "      <td>115.0</td>\n",
       "      <td>0.9906</td>\n",
       "      <td>3.19</td>\n",
       "      <td>0.48</td>\n",
       "      <td>11.3</td>\n",
       "      <td>7</td>\n",
       "      <td>7.327224</td>\n",
       "      <td>3.188113</td>\n",
       "    </tr>\n",
       "    <tr>\n",
       "      <th>2334</th>\n",
       "      <td>tico cat</td>\n",
       "      <td>7.5</td>\n",
       "      <td>south africa</td>\n",
       "      <td>0.23</td>\n",
       "      <td>0.35</td>\n",
       "      <td>17.8</td>\n",
       "      <td>0.058</td>\n",
       "      <td>128.0</td>\n",
       "      <td>212.0</td>\n",
       "      <td>100.2410</td>\n",
       "      <td>3.44</td>\n",
       "      <td>0.43</td>\n",
       "      <td>8.9</td>\n",
       "      <td>5</td>\n",
       "      <td>7.010320</td>\n",
       "      <td>3.193895</td>\n",
       "    </tr>\n",
       "    <tr>\n",
       "      <th>4991</th>\n",
       "      <td>lost watch</td>\n",
       "      <td>7.7</td>\n",
       "      <td>atlantida</td>\n",
       "      <td>0.49</td>\n",
       "      <td>0.26</td>\n",
       "      <td>1.9</td>\n",
       "      <td>0.062</td>\n",
       "      <td>9.0</td>\n",
       "      <td>31.0</td>\n",
       "      <td>0.9966</td>\n",
       "      <td>3.39</td>\n",
       "      <td>0.64</td>\n",
       "      <td>9.6</td>\n",
       "      <td>5</td>\n",
       "      <td>7.693617</td>\n",
       "      <td>3.268851</td>\n",
       "    </tr>\n",
       "    <tr>\n",
       "      <th>1001</th>\n",
       "      <td>ice danone</td>\n",
       "      <td>6.4</td>\n",
       "      <td>greenland</td>\n",
       "      <td>0.28</td>\n",
       "      <td>0.41</td>\n",
       "      <td>6.8</td>\n",
       "      <td>0.045</td>\n",
       "      <td>61.0</td>\n",
       "      <td>216.0</td>\n",
       "      <td>0.9952</td>\n",
       "      <td>3.09</td>\n",
       "      <td>0.46</td>\n",
       "      <td>9.4</td>\n",
       "      <td>5</td>\n",
       "      <td>6.917132</td>\n",
       "      <td>3.217246</td>\n",
       "    </tr>\n",
       "  </tbody>\n",
       "</table>\n",
       "</div>"
      ],
      "text/plain": [
       "     distributor  fixed acidity       country  volatile acidity  citric acid  \\\n",
       "543   ice danone            6.7      portugal              0.24         0.41   \n",
       "1362   last poet            6.4     greenland              0.25         0.33   \n",
       "2334    tico cat            7.5  south africa              0.23         0.35   \n",
       "4991  lost watch            7.7     atlantida              0.49         0.26   \n",
       "1001  ice danone            6.4     greenland              0.28         0.41   \n",
       "\n",
       "      residual sugar  chlorides  free sulfur dioxide  total sulfur dioxide  \\\n",
       "543              8.7      0.036                 29.0                 148.0   \n",
       "1362             1.4      0.040                 42.0                 115.0   \n",
       "2334            17.8      0.058                128.0                 212.0   \n",
       "4991             1.9      0.062                  9.0                  31.0   \n",
       "1001             6.8      0.045                 61.0                 216.0   \n",
       "\n",
       "       density    pH  sulphates alcohol  quality  fixed acidity mean   pH mean  \n",
       "543     0.9952  3.22       0.62     9.9        6            6.917132  3.217246  \n",
       "1362    0.9906  3.19       0.48    11.3        7            7.327224  3.188113  \n",
       "2334  100.2410  3.44       0.43     8.9        5            7.010320  3.193895  \n",
       "4991    0.9966  3.39       0.64     9.6        5            7.693617  3.268851  \n",
       "1001    0.9952  3.09       0.46     9.4        5            6.917132  3.217246  "
      ]
     },
     "execution_count": 4,
     "metadata": {},
     "output_type": "execute_result"
    }
   ],
   "source": [
    "df_with_means = df.merge(df_by_distributor, left_on='distributor', right_on='distributor', suffixes=(None, \" mean\"))\n",
    "df_with_means.sample(5)"
   ]
  },
  {
   "cell_type": "markdown",
   "id": "909dcec0-2ee3-45a2-ba23-de9ad0890fc0",
   "metadata": {},
   "source": [
    "## 3. Pivot table"
   ]
  },
  {
   "cell_type": "code",
   "execution_count": 5,
   "id": "69c1f5c5-99d1-4299-b7d9-40cb96a6cae1",
   "metadata": {},
   "outputs": [
    {
     "data": {
      "text/plain": [
       "country            quality\n",
       "atlantida          3          10.004545\n",
       "                   4          10.353125\n",
       "                   5           9.910048\n",
       "                   6          10.767227\n",
       "                   7          11.568406\n",
       "                   8          11.321875\n",
       "canada             3           9.833333\n",
       "                   4           9.866667\n",
       "                   5           9.810476\n",
       "                   6          10.600505\n",
       "                   7          10.959375\n",
       "                   8          11.626667\n",
       "                   9          12.900000\n",
       "greenland          3          10.925000\n",
       "                   4           9.975758\n",
       "                   5           9.756017\n",
       "                   6          10.244984\n",
       "                   7          10.916970\n",
       "                   8          11.397619\n",
       "                   9          12.000000\n",
       "portugal           3          10.375000\n",
       "                   4          10.100000\n",
       "                   5           9.613514\n",
       "                   6          10.037838\n",
       "                   7          11.137113\n",
       "                   8          11.956250\n",
       "south africa       3          10.171429\n",
       "                   4          10.137500\n",
       "                   5           9.801429\n",
       "                   6          10.583938\n",
       "                   7          11.633945\n",
       "                   8          11.722535\n",
       "unit emirate arab  3          10.500000\n",
       "                   4          10.463636\n",
       "                   5           9.934314\n",
       "                   6          10.805846\n",
       "                   7          11.356429\n",
       "                   8          12.647059\n",
       "Name: alcohol, dtype: float64"
      ]
     },
     "execution_count": 5,
     "metadata": {},
     "output_type": "execute_result"
    }
   ],
   "source": [
    "df_alcohol = df\n",
    "df_alcohol['alcohol'] = pd.to_numeric(df_alcohol['alcohol'], errors='coerce')\n",
    "df_alcohol = df_alcohol.dropna(subset=['alcohol'])\n",
    "df_alcohol.groupby(['country', 'quality'])['alcohol'].mean()"
   ]
  },
  {
   "cell_type": "code",
   "execution_count": 6,
   "id": "0e0e9e10-9344-46e4-a9bd-5b6a5cb3ce6f",
   "metadata": {},
   "outputs": [
    {
     "data": {
      "text/html": [
       "<div>\n",
       "<style scoped>\n",
       "    .dataframe tbody tr th:only-of-type {\n",
       "        vertical-align: middle;\n",
       "    }\n",
       "\n",
       "    .dataframe tbody tr th {\n",
       "        vertical-align: top;\n",
       "    }\n",
       "\n",
       "    .dataframe thead th {\n",
       "        text-align: right;\n",
       "    }\n",
       "</style>\n",
       "<table border=\"1\" class=\"dataframe\">\n",
       "  <thead>\n",
       "    <tr style=\"text-align: right;\">\n",
       "      <th>quality</th>\n",
       "      <th>3</th>\n",
       "      <th>4</th>\n",
       "      <th>5</th>\n",
       "      <th>6</th>\n",
       "      <th>7</th>\n",
       "      <th>8</th>\n",
       "      <th>9</th>\n",
       "    </tr>\n",
       "    <tr>\n",
       "      <th>country</th>\n",
       "      <th></th>\n",
       "      <th></th>\n",
       "      <th></th>\n",
       "      <th></th>\n",
       "      <th></th>\n",
       "      <th></th>\n",
       "      <th></th>\n",
       "    </tr>\n",
       "  </thead>\n",
       "  <tbody>\n",
       "    <tr>\n",
       "      <th>atlantida</th>\n",
       "      <td>10.004545</td>\n",
       "      <td>10.353125</td>\n",
       "      <td>9.910048</td>\n",
       "      <td>10.767227</td>\n",
       "      <td>11.568406</td>\n",
       "      <td>11.321875</td>\n",
       "      <td>0.0</td>\n",
       "    </tr>\n",
       "    <tr>\n",
       "      <th>canada</th>\n",
       "      <td>9.833333</td>\n",
       "      <td>9.866667</td>\n",
       "      <td>9.810476</td>\n",
       "      <td>10.600505</td>\n",
       "      <td>10.959375</td>\n",
       "      <td>11.626667</td>\n",
       "      <td>12.9</td>\n",
       "    </tr>\n",
       "    <tr>\n",
       "      <th>greenland</th>\n",
       "      <td>10.925000</td>\n",
       "      <td>9.975758</td>\n",
       "      <td>9.756017</td>\n",
       "      <td>10.244984</td>\n",
       "      <td>10.916970</td>\n",
       "      <td>11.397619</td>\n",
       "      <td>12.0</td>\n",
       "    </tr>\n",
       "    <tr>\n",
       "      <th>portugal</th>\n",
       "      <td>10.375000</td>\n",
       "      <td>10.100000</td>\n",
       "      <td>9.613514</td>\n",
       "      <td>10.037838</td>\n",
       "      <td>11.137113</td>\n",
       "      <td>11.956250</td>\n",
       "      <td>0.0</td>\n",
       "    </tr>\n",
       "    <tr>\n",
       "      <th>south africa</th>\n",
       "      <td>10.171429</td>\n",
       "      <td>10.137500</td>\n",
       "      <td>9.801429</td>\n",
       "      <td>10.583938</td>\n",
       "      <td>11.633945</td>\n",
       "      <td>11.722535</td>\n",
       "      <td>0.0</td>\n",
       "    </tr>\n",
       "    <tr>\n",
       "      <th>unit emirate arab</th>\n",
       "      <td>10.500000</td>\n",
       "      <td>10.463636</td>\n",
       "      <td>9.934314</td>\n",
       "      <td>10.805846</td>\n",
       "      <td>11.356429</td>\n",
       "      <td>12.647059</td>\n",
       "      <td>0.0</td>\n",
       "    </tr>\n",
       "  </tbody>\n",
       "</table>\n",
       "</div>"
      ],
      "text/plain": [
       "quality                    3          4         5          6          7  \\\n",
       "country                                                                   \n",
       "atlantida          10.004545  10.353125  9.910048  10.767227  11.568406   \n",
       "canada              9.833333   9.866667  9.810476  10.600505  10.959375   \n",
       "greenland          10.925000   9.975758  9.756017  10.244984  10.916970   \n",
       "portugal           10.375000  10.100000  9.613514  10.037838  11.137113   \n",
       "south africa       10.171429  10.137500  9.801429  10.583938  11.633945   \n",
       "unit emirate arab  10.500000  10.463636  9.934314  10.805846  11.356429   \n",
       "\n",
       "quality                    8     9  \n",
       "country                             \n",
       "atlantida          11.321875   0.0  \n",
       "canada             11.626667  12.9  \n",
       "greenland          11.397619  12.0  \n",
       "portugal           11.956250   0.0  \n",
       "south africa       11.722535   0.0  \n",
       "unit emirate arab  12.647059   0.0  "
      ]
     },
     "execution_count": 6,
     "metadata": {},
     "output_type": "execute_result"
    }
   ],
   "source": [
    "df_quality_country = df_alcohol.pivot_table(index='country', columns='quality', values='alcohol') # aggfunc = np.mean() by default\n",
    "df_quality_country = df_quality_country.fillna(0.)\n",
    "df_quality_country"
   ]
  },
  {
   "cell_type": "markdown",
   "id": "ca62ddad-c0ec-438f-90f8-92f46fd50e7f",
   "metadata": {},
   "source": [
    "# Machine Learning"
   ]
  },
  {
   "cell_type": "code",
   "execution_count": 7,
   "id": "0fa6ef1f-0e77-4b43-bb4b-e122a4d782e8",
   "metadata": {},
   "outputs": [],
   "source": [
    "# !conda install -c conda-forge imbalanced-learn"
   ]
  },
  {
   "cell_type": "code",
   "execution_count": 8,
   "id": "aca76979-e46a-411f-b9cd-382be140108a",
   "metadata": {},
   "outputs": [],
   "source": [
    "from sklearn.model_selection import train_test_split\n",
    "from sklearn.preprocessing import StandardScaler\n",
    "from sklearn.ensemble import RandomForestClassifier\n",
    "from sklearn.metrics import confusion_matrix, classification_report\n",
    "from imblearn.over_sampling import RandomOverSampler\n",
    "\n",
    "import matplotlib.pyplot as plt\n",
    "import seaborn as sns\n",
    "import pickle"
   ]
  },
  {
   "cell_type": "code",
   "execution_count": 9,
   "id": "435fedd6-110a-4a8c-8f95-3f929a135f17",
   "metadata": {},
   "outputs": [
    {
     "data": {
      "text/html": [
       "<div>\n",
       "<style scoped>\n",
       "    .dataframe tbody tr th:only-of-type {\n",
       "        vertical-align: middle;\n",
       "    }\n",
       "\n",
       "    .dataframe tbody tr th {\n",
       "        vertical-align: top;\n",
       "    }\n",
       "\n",
       "    .dataframe thead th {\n",
       "        text-align: right;\n",
       "    }\n",
       "</style>\n",
       "<table border=\"1\" class=\"dataframe\">\n",
       "  <thead>\n",
       "    <tr style=\"text-align: right;\">\n",
       "      <th></th>\n",
       "      <th>distributor</th>\n",
       "      <th>fixed acidity</th>\n",
       "      <th>country</th>\n",
       "      <th>volatile acidity</th>\n",
       "      <th>citric acid</th>\n",
       "      <th>residual sugar</th>\n",
       "      <th>chlorides</th>\n",
       "      <th>free sulfur dioxide</th>\n",
       "      <th>total sulfur dioxide</th>\n",
       "      <th>density</th>\n",
       "      <th>pH</th>\n",
       "      <th>sulphates</th>\n",
       "      <th>alcohol</th>\n",
       "      <th>quality</th>\n",
       "    </tr>\n",
       "  </thead>\n",
       "  <tbody>\n",
       "    <tr>\n",
       "      <th>548</th>\n",
       "      <td>ice danone</td>\n",
       "      <td>6.5</td>\n",
       "      <td>portugal</td>\n",
       "      <td>0.18</td>\n",
       "      <td>0.31</td>\n",
       "      <td>1.7</td>\n",
       "      <td>0.044</td>\n",
       "      <td>30.0</td>\n",
       "      <td>127.0</td>\n",
       "      <td>0.99280</td>\n",
       "      <td>3.49</td>\n",
       "      <td>0.50</td>\n",
       "      <td>10.2</td>\n",
       "      <td>7</td>\n",
       "    </tr>\n",
       "    <tr>\n",
       "      <th>5510</th>\n",
       "      <td>lost watch</td>\n",
       "      <td>7.5</td>\n",
       "      <td>atlantida</td>\n",
       "      <td>0.64</td>\n",
       "      <td>0.00</td>\n",
       "      <td>2.4</td>\n",
       "      <td>0.077</td>\n",
       "      <td>18.0</td>\n",
       "      <td>29.0</td>\n",
       "      <td>0.99650</td>\n",
       "      <td>3.32</td>\n",
       "      <td>0.60</td>\n",
       "      <td>10.0</td>\n",
       "      <td>6</td>\n",
       "    </tr>\n",
       "    <tr>\n",
       "      <th>4555</th>\n",
       "      <td>lost watch</td>\n",
       "      <td>6.8</td>\n",
       "      <td>atlantida</td>\n",
       "      <td>0.45</td>\n",
       "      <td>0.30</td>\n",
       "      <td>11.8</td>\n",
       "      <td>0.094</td>\n",
       "      <td>23.0</td>\n",
       "      <td>97.0</td>\n",
       "      <td>0.99700</td>\n",
       "      <td>3.09</td>\n",
       "      <td>0.44</td>\n",
       "      <td>9.6</td>\n",
       "      <td>5</td>\n",
       "    </tr>\n",
       "    <tr>\n",
       "      <th>2520</th>\n",
       "      <td>tico cat</td>\n",
       "      <td>7.5</td>\n",
       "      <td>south africa</td>\n",
       "      <td>0.41</td>\n",
       "      <td>0.23</td>\n",
       "      <td>14.8</td>\n",
       "      <td>0.054</td>\n",
       "      <td>28.0</td>\n",
       "      <td>174.0</td>\n",
       "      <td>0.99898</td>\n",
       "      <td>3.18</td>\n",
       "      <td>0.49</td>\n",
       "      <td>9.7</td>\n",
       "      <td>5</td>\n",
       "    </tr>\n",
       "    <tr>\n",
       "      <th>4586</th>\n",
       "      <td>lost watch</td>\n",
       "      <td>5.4</td>\n",
       "      <td>atlantida</td>\n",
       "      <td>0.29</td>\n",
       "      <td>0.38</td>\n",
       "      <td>1.2</td>\n",
       "      <td>0.029</td>\n",
       "      <td>31.0</td>\n",
       "      <td>132.0</td>\n",
       "      <td>0.98895</td>\n",
       "      <td>3.28</td>\n",
       "      <td>0.36</td>\n",
       "      <td>12.4</td>\n",
       "      <td>6</td>\n",
       "    </tr>\n",
       "  </tbody>\n",
       "</table>\n",
       "</div>"
      ],
      "text/plain": [
       "     distributor  fixed acidity       country  volatile acidity  citric acid  \\\n",
       "548   ice danone            6.5      portugal              0.18         0.31   \n",
       "5510  lost watch            7.5     atlantida              0.64         0.00   \n",
       "4555  lost watch            6.8     atlantida              0.45         0.30   \n",
       "2520    tico cat            7.5  south africa              0.41         0.23   \n",
       "4586  lost watch            5.4     atlantida              0.29         0.38   \n",
       "\n",
       "      residual sugar  chlorides  free sulfur dioxide  total sulfur dioxide  \\\n",
       "548              1.7      0.044                 30.0                 127.0   \n",
       "5510             2.4      0.077                 18.0                  29.0   \n",
       "4555            11.8      0.094                 23.0                  97.0   \n",
       "2520            14.8      0.054                 28.0                 174.0   \n",
       "4586             1.2      0.029                 31.0                 132.0   \n",
       "\n",
       "      density    pH  sulphates  alcohol  quality  \n",
       "548   0.99280  3.49       0.50     10.2        7  \n",
       "5510  0.99650  3.32       0.60     10.0        6  \n",
       "4555  0.99700  3.09       0.44      9.6        5  \n",
       "2520  0.99898  3.18       0.49      9.7        5  \n",
       "4586  0.98895  3.28       0.36     12.4        6  "
      ]
     },
     "execution_count": 9,
     "metadata": {},
     "output_type": "execute_result"
    }
   ],
   "source": [
    "df.sample(5)"
   ]
  },
  {
   "cell_type": "markdown",
   "id": "252b5a0d-eb46-4649-869d-4d8726af3275",
   "metadata": {},
   "source": [
    "## 1. Preprocessing"
   ]
  },
  {
   "cell_type": "markdown",
   "id": "d39215d9-aa05-4bca-9a3d-5d18bad76bc8",
   "metadata": {},
   "source": [
    "### Drop NaN"
   ]
  },
  {
   "cell_type": "code",
   "execution_count": 10,
   "id": "0aa6c63b-50eb-4d41-96f7-4fa32b47e8d0",
   "metadata": {},
   "outputs": [
    {
     "data": {
      "text/plain": [
       "True"
      ]
     },
     "execution_count": 10,
     "metadata": {},
     "output_type": "execute_result"
    }
   ],
   "source": [
    "df.isnull().values.any()"
   ]
  },
  {
   "cell_type": "code",
   "execution_count": 11,
   "id": "1285d3f9-17f2-4260-9b9e-dfe081259da6",
   "metadata": {},
   "outputs": [],
   "source": [
    "df = df.dropna()"
   ]
  },
  {
   "cell_type": "markdown",
   "id": "d633c9e0-b66f-445a-893f-0e4e2b16451e",
   "metadata": {},
   "source": [
    "### Factorize textual values"
   ]
  },
  {
   "cell_type": "code",
   "execution_count": 12,
   "id": "040fb972-5323-4e09-be0a-a871dc8a7920",
   "metadata": {},
   "outputs": [
    {
     "data": {
      "text/plain": [
       "Index(['boutique chic', 'ice danone', 'last poet', 'tico cat', 'reine ltda',\n",
       "       'lost watch'],\n",
       "      dtype='object')"
      ]
     },
     "execution_count": 12,
     "metadata": {},
     "output_type": "execute_result"
    }
   ],
   "source": [
    "factor = pd.factorize(df['distributor'])\n",
    "df['distributor'] = factor[0]\n",
    "distributor_definitions = factor[1]\n",
    "distributor_definitions"
   ]
  },
  {
   "cell_type": "code",
   "execution_count": 13,
   "id": "0a9d7100-e642-45c4-b715-a561b46c2c4e",
   "metadata": {},
   "outputs": [
    {
     "data": {
      "text/plain": [
       "Index(['portugal', 'greenland', 'canada', 'south africa', 'unit emirate arab',\n",
       "       'atlantida'],\n",
       "      dtype='object')"
      ]
     },
     "execution_count": 13,
     "metadata": {},
     "output_type": "execute_result"
    }
   ],
   "source": [
    "factor = pd.factorize(df['country'])\n",
    "df['country'] = factor[0]\n",
    "country_definitions = factor[1]\n",
    "country_definitions"
   ]
  },
  {
   "cell_type": "code",
   "execution_count": 14,
   "id": "382352da-7302-48e0-aaf1-3ce49db97a20",
   "metadata": {},
   "outputs": [
    {
     "data": {
      "text/html": [
       "<div>\n",
       "<style scoped>\n",
       "    .dataframe tbody tr th:only-of-type {\n",
       "        vertical-align: middle;\n",
       "    }\n",
       "\n",
       "    .dataframe tbody tr th {\n",
       "        vertical-align: top;\n",
       "    }\n",
       "\n",
       "    .dataframe thead th {\n",
       "        text-align: right;\n",
       "    }\n",
       "</style>\n",
       "<table border=\"1\" class=\"dataframe\">\n",
       "  <thead>\n",
       "    <tr style=\"text-align: right;\">\n",
       "      <th></th>\n",
       "      <th>distributor</th>\n",
       "      <th>fixed acidity</th>\n",
       "      <th>country</th>\n",
       "      <th>volatile acidity</th>\n",
       "      <th>citric acid</th>\n",
       "      <th>residual sugar</th>\n",
       "      <th>chlorides</th>\n",
       "      <th>free sulfur dioxide</th>\n",
       "      <th>total sulfur dioxide</th>\n",
       "      <th>density</th>\n",
       "      <th>pH</th>\n",
       "      <th>sulphates</th>\n",
       "      <th>alcohol</th>\n",
       "      <th>quality</th>\n",
       "    </tr>\n",
       "  </thead>\n",
       "  <tbody>\n",
       "    <tr>\n",
       "      <th>1356</th>\n",
       "      <td>2</td>\n",
       "      <td>7.3</td>\n",
       "      <td>1</td>\n",
       "      <td>0.22</td>\n",
       "      <td>0.41</td>\n",
       "      <td>15.4</td>\n",
       "      <td>0.050</td>\n",
       "      <td>55.0</td>\n",
       "      <td>191.0</td>\n",
       "      <td>1.00000</td>\n",
       "      <td>3.32</td>\n",
       "      <td>0.59</td>\n",
       "      <td>8.9</td>\n",
       "      <td>6</td>\n",
       "    </tr>\n",
       "    <tr>\n",
       "      <th>338</th>\n",
       "      <td>0</td>\n",
       "      <td>5.9</td>\n",
       "      <td>0</td>\n",
       "      <td>0.26</td>\n",
       "      <td>0.40</td>\n",
       "      <td>1.3</td>\n",
       "      <td>0.047</td>\n",
       "      <td>12.0</td>\n",
       "      <td>139.0</td>\n",
       "      <td>0.99450</td>\n",
       "      <td>3.45</td>\n",
       "      <td>0.53</td>\n",
       "      <td>10.4</td>\n",
       "      <td>5</td>\n",
       "    </tr>\n",
       "    <tr>\n",
       "      <th>1095</th>\n",
       "      <td>1</td>\n",
       "      <td>5.3</td>\n",
       "      <td>1</td>\n",
       "      <td>0.24</td>\n",
       "      <td>0.33</td>\n",
       "      <td>1.3</td>\n",
       "      <td>0.033</td>\n",
       "      <td>25.0</td>\n",
       "      <td>97.0</td>\n",
       "      <td>0.99060</td>\n",
       "      <td>3.59</td>\n",
       "      <td>0.38</td>\n",
       "      <td>11.0</td>\n",
       "      <td>8</td>\n",
       "    </tr>\n",
       "    <tr>\n",
       "      <th>1014</th>\n",
       "      <td>1</td>\n",
       "      <td>6.1</td>\n",
       "      <td>1</td>\n",
       "      <td>0.16</td>\n",
       "      <td>0.27</td>\n",
       "      <td>12.6</td>\n",
       "      <td>0.064</td>\n",
       "      <td>63.0</td>\n",
       "      <td>162.0</td>\n",
       "      <td>0.99940</td>\n",
       "      <td>3.66</td>\n",
       "      <td>0.43</td>\n",
       "      <td>8.9</td>\n",
       "      <td>5</td>\n",
       "    </tr>\n",
       "    <tr>\n",
       "      <th>6059</th>\n",
       "      <td>5</td>\n",
       "      <td>8.8</td>\n",
       "      <td>5</td>\n",
       "      <td>0.45</td>\n",
       "      <td>0.43</td>\n",
       "      <td>1.4</td>\n",
       "      <td>0.076</td>\n",
       "      <td>12.0</td>\n",
       "      <td>21.0</td>\n",
       "      <td>0.99551</td>\n",
       "      <td>3.21</td>\n",
       "      <td>0.75</td>\n",
       "      <td>10.2</td>\n",
       "      <td>6</td>\n",
       "    </tr>\n",
       "  </tbody>\n",
       "</table>\n",
       "</div>"
      ],
      "text/plain": [
       "      distributor  fixed acidity  country  volatile acidity  citric acid  \\\n",
       "1356            2            7.3        1              0.22         0.41   \n",
       "338             0            5.9        0              0.26         0.40   \n",
       "1095            1            5.3        1              0.24         0.33   \n",
       "1014            1            6.1        1              0.16         0.27   \n",
       "6059            5            8.8        5              0.45         0.43   \n",
       "\n",
       "      residual sugar  chlorides  free sulfur dioxide  total sulfur dioxide  \\\n",
       "1356            15.4      0.050                 55.0                 191.0   \n",
       "338              1.3      0.047                 12.0                 139.0   \n",
       "1095             1.3      0.033                 25.0                  97.0   \n",
       "1014            12.6      0.064                 63.0                 162.0   \n",
       "6059             1.4      0.076                 12.0                  21.0   \n",
       "\n",
       "      density    pH  sulphates  alcohol  quality  \n",
       "1356  1.00000  3.32       0.59      8.9        6  \n",
       "338   0.99450  3.45       0.53     10.4        5  \n",
       "1095  0.99060  3.59       0.38     11.0        8  \n",
       "1014  0.99940  3.66       0.43      8.9        5  \n",
       "6059  0.99551  3.21       0.75     10.2        6  "
      ]
     },
     "execution_count": 14,
     "metadata": {},
     "output_type": "execute_result"
    }
   ],
   "source": [
    "df.sample(5)"
   ]
  },
  {
   "cell_type": "markdown",
   "id": "5425dc85-a8e2-47d0-980e-671c8999880f",
   "metadata": {},
   "source": [
    "## 2. Train/Test"
   ]
  },
  {
   "cell_type": "code",
   "execution_count": 15,
   "id": "96f832f1-c96a-4b88-805a-dc27069da008",
   "metadata": {},
   "outputs": [
    {
     "name": "stdout",
     "output_type": "stream",
     "text": [
      "5\n",
      "30\n"
     ]
    }
   ],
   "source": [
    "X = df.iloc[:,0:13].values\n",
    "y = df.iloc[:,13].values\n",
    "print(np.count_nonzero(y == 9))\n",
    "print(np.count_nonzero(y == 3))\n",
    "# data is highly unbalanced"
   ]
  },
  {
   "cell_type": "markdown",
   "id": "0eb9bb9b-ed23-411f-baf9-0462c7f0625f",
   "metadata": {},
   "source": [
    "### Oversampling"
   ]
  },
  {
   "cell_type": "code",
   "execution_count": 16,
   "id": "cb477998-abbb-4157-9af6-2ef0fa141d61",
   "metadata": {},
   "outputs": [
    {
     "name": "stdout",
     "output_type": "stream",
     "text": [
      "2815\n",
      "2815\n"
     ]
    }
   ],
   "source": [
    "over_sampler = RandomOverSampler(sampling_strategy='minority', random_state=42)\n",
    "X, y = over_sampler.fit_resample(X, y)\n",
    "X, y = over_sampler.fit_resample(X, y)\n",
    "print(np.count_nonzero(y == 9))\n",
    "print(np.count_nonzero(y == 3))"
   ]
  },
  {
   "cell_type": "markdown",
   "id": "4a828d07-5885-48c3-a2d6-72035070eb22",
   "metadata": {},
   "source": [
    "### Split"
   ]
  },
  {
   "cell_type": "code",
   "execution_count": 17,
   "id": "ab14472a-c5cf-447a-988c-134873307c82",
   "metadata": {},
   "outputs": [],
   "source": [
    "X_train, X_test, y_train, y_test = train_test_split(X, y, test_size = 0.30, random_state = 42)"
   ]
  },
  {
   "cell_type": "markdown",
   "id": "d312b46d-673e-4610-b52b-8b66e004216a",
   "metadata": {},
   "source": [
    "### Fit/Predict"
   ]
  },
  {
   "cell_type": "code",
   "execution_count": 18,
   "id": "fd0d753c-7302-4c2c-9fb2-3ebe620b7626",
   "metadata": {},
   "outputs": [],
   "source": [
    "scaler = StandardScaler()\n",
    "X_train = scaler.fit_transform(X_train)\n",
    "X_test = scaler.transform(X_test)"
   ]
  },
  {
   "cell_type": "code",
   "execution_count": 19,
   "id": "6d0910fb-9ebb-4bdd-9302-a37a6c29b5ec",
   "metadata": {},
   "outputs": [
    {
     "data": {
      "text/html": [
       "<style>#sk-container-id-1 {color: black;background-color: white;}#sk-container-id-1 pre{padding: 0;}#sk-container-id-1 div.sk-toggleable {background-color: white;}#sk-container-id-1 label.sk-toggleable__label {cursor: pointer;display: block;width: 100%;margin-bottom: 0;padding: 0.3em;box-sizing: border-box;text-align: center;}#sk-container-id-1 label.sk-toggleable__label-arrow:before {content: \"▸\";float: left;margin-right: 0.25em;color: #696969;}#sk-container-id-1 label.sk-toggleable__label-arrow:hover:before {color: black;}#sk-container-id-1 div.sk-estimator:hover label.sk-toggleable__label-arrow:before {color: black;}#sk-container-id-1 div.sk-toggleable__content {max-height: 0;max-width: 0;overflow: hidden;text-align: left;background-color: #f0f8ff;}#sk-container-id-1 div.sk-toggleable__content pre {margin: 0.2em;color: black;border-radius: 0.25em;background-color: #f0f8ff;}#sk-container-id-1 input.sk-toggleable__control:checked~div.sk-toggleable__content {max-height: 200px;max-width: 100%;overflow: auto;}#sk-container-id-1 input.sk-toggleable__control:checked~label.sk-toggleable__label-arrow:before {content: \"▾\";}#sk-container-id-1 div.sk-estimator input.sk-toggleable__control:checked~label.sk-toggleable__label {background-color: #d4ebff;}#sk-container-id-1 div.sk-label input.sk-toggleable__control:checked~label.sk-toggleable__label {background-color: #d4ebff;}#sk-container-id-1 input.sk-hidden--visually {border: 0;clip: rect(1px 1px 1px 1px);clip: rect(1px, 1px, 1px, 1px);height: 1px;margin: -1px;overflow: hidden;padding: 0;position: absolute;width: 1px;}#sk-container-id-1 div.sk-estimator {font-family: monospace;background-color: #f0f8ff;border: 1px dotted black;border-radius: 0.25em;box-sizing: border-box;margin-bottom: 0.5em;}#sk-container-id-1 div.sk-estimator:hover {background-color: #d4ebff;}#sk-container-id-1 div.sk-parallel-item::after {content: \"\";width: 100%;border-bottom: 1px solid gray;flex-grow: 1;}#sk-container-id-1 div.sk-label:hover label.sk-toggleable__label {background-color: #d4ebff;}#sk-container-id-1 div.sk-serial::before {content: \"\";position: absolute;border-left: 1px solid gray;box-sizing: border-box;top: 0;bottom: 0;left: 50%;z-index: 0;}#sk-container-id-1 div.sk-serial {display: flex;flex-direction: column;align-items: center;background-color: white;padding-right: 0.2em;padding-left: 0.2em;position: relative;}#sk-container-id-1 div.sk-item {position: relative;z-index: 1;}#sk-container-id-1 div.sk-parallel {display: flex;align-items: stretch;justify-content: center;background-color: white;position: relative;}#sk-container-id-1 div.sk-item::before, #sk-container-id-1 div.sk-parallel-item::before {content: \"\";position: absolute;border-left: 1px solid gray;box-sizing: border-box;top: 0;bottom: 0;left: 50%;z-index: -1;}#sk-container-id-1 div.sk-parallel-item {display: flex;flex-direction: column;z-index: 1;position: relative;background-color: white;}#sk-container-id-1 div.sk-parallel-item:first-child::after {align-self: flex-end;width: 50%;}#sk-container-id-1 div.sk-parallel-item:last-child::after {align-self: flex-start;width: 50%;}#sk-container-id-1 div.sk-parallel-item:only-child::after {width: 0;}#sk-container-id-1 div.sk-dashed-wrapped {border: 1px dashed gray;margin: 0 0.4em 0.5em 0.4em;box-sizing: border-box;padding-bottom: 0.4em;background-color: white;}#sk-container-id-1 div.sk-label label {font-family: monospace;font-weight: bold;display: inline-block;line-height: 1.2em;}#sk-container-id-1 div.sk-label-container {text-align: center;}#sk-container-id-1 div.sk-container {/* jupyter's `normalize.less` sets `[hidden] { display: none; }` but bootstrap.min.css set `[hidden] { display: none !important; }` so we also need the `!important` here to be able to override the default hidden behavior on the sphinx rendered scikit-learn.org. See: https://github.com/scikit-learn/scikit-learn/issues/21755 */display: inline-block !important;position: relative;}#sk-container-id-1 div.sk-text-repr-fallback {display: none;}</style><div id=\"sk-container-id-1\" class=\"sk-top-container\"><div class=\"sk-text-repr-fallback\"><pre>RandomForestClassifier(criterion=&#x27;entropy&#x27;, n_estimators=25, random_state=42)</pre><b>In a Jupyter environment, please rerun this cell to show the HTML representation or trust the notebook. <br />On GitHub, the HTML representation is unable to render, please try loading this page with nbviewer.org.</b></div><div class=\"sk-container\" hidden><div class=\"sk-item\"><div class=\"sk-estimator sk-toggleable\"><input class=\"sk-toggleable__control sk-hidden--visually\" id=\"sk-estimator-id-1\" type=\"checkbox\" checked><label for=\"sk-estimator-id-1\" class=\"sk-toggleable__label sk-toggleable__label-arrow\">RandomForestClassifier</label><div class=\"sk-toggleable__content\"><pre>RandomForestClassifier(criterion=&#x27;entropy&#x27;, n_estimators=25, random_state=42)</pre></div></div></div></div></div>"
      ],
      "text/plain": [
       "RandomForestClassifier(criterion='entropy', n_estimators=25, random_state=42)"
      ]
     },
     "execution_count": 19,
     "metadata": {},
     "output_type": "execute_result"
    }
   ],
   "source": [
    "classifier = RandomForestClassifier(n_estimators = 25, criterion = 'entropy', random_state = 42)\n",
    "classifier.fit(X_train, y_train)"
   ]
  },
  {
   "cell_type": "code",
   "execution_count": 20,
   "id": "394ddfab-c2cf-48c9-a034-93cebe65a1ff",
   "metadata": {},
   "outputs": [],
   "source": [
    "y_pred = classifier.predict(X_test)"
   ]
  },
  {
   "cell_type": "markdown",
   "id": "225fb2ad-c343-465c-be84-5121020d8e00",
   "metadata": {},
   "source": [
    "### Evaluation"
   ]
  },
  {
   "cell_type": "code",
   "execution_count": 21,
   "id": "f188fea8-5929-4e58-bcd2-b9ef9901768a",
   "metadata": {},
   "outputs": [
    {
     "data": {
      "text/plain": [
       "set()"
      ]
     },
     "execution_count": 21,
     "metadata": {},
     "output_type": "execute_result"
    }
   ],
   "source": [
    "set(y_test) - set(y_pred) # is there any data present in test, but missing in pred?"
   ]
  },
  {
   "cell_type": "code",
   "execution_count": 22,
   "id": "49c4eca7-e31a-406f-b1fe-eb6b2eba5837",
   "metadata": {},
   "outputs": [
    {
     "name": "stdout",
     "output_type": "stream",
     "text": [
      "Predicted Qualities    3   4    5    6    7   8    9\n",
      "True Qualities                                      \n",
      "3                    836   0    0    0    0   0    0\n",
      "4                      2  10   38   16    1   0    0\n",
      "5                      1   6  444  153    6   1    0\n",
      "6                      0   1  165  661   46   3    0\n",
      "7                      1   0   13  170  155   3    0\n",
      "8                      0   0    0   23   15  17    0\n",
      "9                      0   0    0    0    0   0  829\n"
     ]
    }
   ],
   "source": [
    "print(pd.crosstab(y_test, y_pred, rownames=['True Qualities'], colnames=['Predicted Qualities']))"
   ]
  },
  {
   "cell_type": "code",
   "execution_count": 23,
   "id": "24a32aaa-dbbb-4466-abf1-02d450c775a8",
   "metadata": {},
   "outputs": [
    {
     "name": "stdout",
     "output_type": "stream",
     "text": [
      "              precision    recall  f1-score   support\n",
      "\n",
      "           3       1.00      1.00      1.00       836\n",
      "           4       0.59      0.15      0.24        67\n",
      "           5       0.67      0.73      0.70       611\n",
      "           6       0.65      0.75      0.70       876\n",
      "           7       0.70      0.45      0.55       342\n",
      "           8       0.71      0.31      0.43        55\n",
      "           9       1.00      1.00      1.00       829\n",
      "\n",
      "    accuracy                           0.82      3616\n",
      "   macro avg       0.76      0.63      0.66      3616\n",
      "weighted avg       0.82      0.82      0.81      3616\n",
      "\n"
     ]
    }
   ],
   "source": [
    "print(classification_report(y_test, y_pred, zero_division=0))"
   ]
  },
  {
   "cell_type": "markdown",
   "id": "a0b4dcf3-177e-433c-826c-e67f3b2f8cb9",
   "metadata": {},
   "source": [
    "## 3. Serialize"
   ]
  },
  {
   "cell_type": "code",
   "execution_count": 24,
   "id": "967defa6-72ce-461a-aa1b-d4255e25c8b7",
   "metadata": {},
   "outputs": [],
   "source": [
    "filename = 'vinegar.pkl'\n",
    "pickle.dump(classifier, open(filename, 'wb'))"
   ]
  }
 ],
 "metadata": {
  "kernelspec": {
   "display_name": "loopt",
   "language": "python",
   "name": "loopt"
  },
  "language_info": {
   "codemirror_mode": {
    "name": "ipython",
    "version": 3
   },
   "file_extension": ".py",
   "mimetype": "text/x-python",
   "name": "python",
   "nbconvert_exporter": "python",
   "pygments_lexer": "ipython3",
   "version": "3.10.4"
  }
 },
 "nbformat": 4,
 "nbformat_minor": 5
}

{
 "cells": [
  {
   "cell_type": "markdown",
   "id": "b4fed810-00c4-4c4a-a763-b1dceb385880",
   "metadata": {},
   "source": [
    "# Dependencies"
   ]
  },
  {
   "cell_type": "code",
   "execution_count": 1,
   "id": "d7796aa7-9cd1-49aa-b924-835afb53a80b",
   "metadata": {},
   "outputs": [],
   "source": [
    "import numpy as np\n",
    "import pandas as pd"
   ]
  },
  {
   "cell_type": "markdown",
   "id": "38a867ac-f67b-4817-93d1-abddd9b4f693",
   "metadata": {},
   "source": [
    "# Load"
   ]
  },
  {
   "cell_type": "code",
   "execution_count": 2,
   "id": "c36aa9f9-b9b3-4b84-9e76-c2afc7f799f4",
   "metadata": {},
   "outputs": [
    {
     "data": {
      "text/html": [
       "<div>\n",
       "<style scoped>\n",
       "    .dataframe tbody tr th:only-of-type {\n",
       "        vertical-align: middle;\n",
       "    }\n",
       "\n",
       "    .dataframe tbody tr th {\n",
       "        vertical-align: top;\n",
       "    }\n",
       "\n",
       "    .dataframe thead th {\n",
       "        text-align: right;\n",
       "    }\n",
       "</style>\n",
       "<table border=\"1\" class=\"dataframe\">\n",
       "  <thead>\n",
       "    <tr style=\"text-align: right;\">\n",
       "      <th></th>\n",
       "      <th>distributor</th>\n",
       "      <th>fixed acidity</th>\n",
       "      <th>country</th>\n",
       "      <th>volatile acidity</th>\n",
       "      <th>citric acid</th>\n",
       "      <th>residual sugar</th>\n",
       "      <th>chlorides</th>\n",
       "      <th>free sulfur dioxide</th>\n",
       "      <th>total sulfur dioxide</th>\n",
       "      <th>density</th>\n",
       "      <th>pH</th>\n",
       "      <th>sulphates</th>\n",
       "      <th>alcohol</th>\n",
       "      <th>quality</th>\n",
       "    </tr>\n",
       "  </thead>\n",
       "  <tbody>\n",
       "    <tr>\n",
       "      <th>1851</th>\n",
       "      <td>tico cat</td>\n",
       "      <td>6.1</td>\n",
       "      <td>south africa</td>\n",
       "      <td>0.34</td>\n",
       "      <td>0.46</td>\n",
       "      <td>4.7</td>\n",
       "      <td>0.029</td>\n",
       "      <td>21.0</td>\n",
       "      <td>94.0</td>\n",
       "      <td>0.99100</td>\n",
       "      <td>3.29</td>\n",
       "      <td>0.62</td>\n",
       "      <td>12.3</td>\n",
       "      <td>6</td>\n",
       "    </tr>\n",
       "    <tr>\n",
       "      <th>2480</th>\n",
       "      <td>tico cat</td>\n",
       "      <td>6.8</td>\n",
       "      <td>south africa</td>\n",
       "      <td>0.32</td>\n",
       "      <td>0.30</td>\n",
       "      <td>1.0</td>\n",
       "      <td>0.049</td>\n",
       "      <td>22.0</td>\n",
       "      <td>113.0</td>\n",
       "      <td>0.99289</td>\n",
       "      <td>3.24</td>\n",
       "      <td>0.61</td>\n",
       "      <td>10.2</td>\n",
       "      <td>5</td>\n",
       "    </tr>\n",
       "    <tr>\n",
       "      <th>5381</th>\n",
       "      <td>lost watch</td>\n",
       "      <td>10.6</td>\n",
       "      <td>atlantida</td>\n",
       "      <td>0.36</td>\n",
       "      <td>0.60</td>\n",
       "      <td>2.2</td>\n",
       "      <td>0.152</td>\n",
       "      <td>7.0</td>\n",
       "      <td>18.0</td>\n",
       "      <td>0.99860</td>\n",
       "      <td>3.04</td>\n",
       "      <td>1.06</td>\n",
       "      <td>9.4</td>\n",
       "      <td>5</td>\n",
       "    </tr>\n",
       "    <tr>\n",
       "      <th>5511</th>\n",
       "      <td>lost watch</td>\n",
       "      <td>8.2</td>\n",
       "      <td>atlantida</td>\n",
       "      <td>0.39</td>\n",
       "      <td>0.38</td>\n",
       "      <td>1.5</td>\n",
       "      <td>0.058</td>\n",
       "      <td>10.0</td>\n",
       "      <td>29.0</td>\n",
       "      <td>0.99620</td>\n",
       "      <td>3.26</td>\n",
       "      <td>0.74</td>\n",
       "      <td>9.8</td>\n",
       "      <td>5</td>\n",
       "    </tr>\n",
       "    <tr>\n",
       "      <th>5065</th>\n",
       "      <td>lost watch</td>\n",
       "      <td>7.3</td>\n",
       "      <td>atlantida</td>\n",
       "      <td>0.55</td>\n",
       "      <td>0.03</td>\n",
       "      <td>1.6</td>\n",
       "      <td>0.072</td>\n",
       "      <td>17.0</td>\n",
       "      <td>42.0</td>\n",
       "      <td>0.99560</td>\n",
       "      <td>3.37</td>\n",
       "      <td>0.48</td>\n",
       "      <td>9</td>\n",
       "      <td>4</td>\n",
       "    </tr>\n",
       "  </tbody>\n",
       "</table>\n",
       "</div>"
      ],
      "text/plain": [
       "     distributor  fixed acidity       country  volatile acidity  citric acid  \\\n",
       "1851    tico cat            6.1  south africa              0.34         0.46   \n",
       "2480    tico cat            6.8  south africa              0.32         0.30   \n",
       "5381  lost watch           10.6     atlantida              0.36         0.60   \n",
       "5511  lost watch            8.2     atlantida              0.39         0.38   \n",
       "5065  lost watch            7.3     atlantida              0.55         0.03   \n",
       "\n",
       "      residual sugar  chlorides  free sulfur dioxide  total sulfur dioxide  \\\n",
       "1851             4.7      0.029                 21.0                  94.0   \n",
       "2480             1.0      0.049                 22.0                 113.0   \n",
       "5381             2.2      0.152                  7.0                  18.0   \n",
       "5511             1.5      0.058                 10.0                  29.0   \n",
       "5065             1.6      0.072                 17.0                  42.0   \n",
       "\n",
       "      density    pH  sulphates alcohol  quality  \n",
       "1851  0.99100  3.29       0.62    12.3        6  \n",
       "2480  0.99289  3.24       0.61    10.2        5  \n",
       "5381  0.99860  3.04       1.06     9.4        5  \n",
       "5511  0.99620  3.26       0.74     9.8        5  \n",
       "5065  0.99560  3.37       0.48       9        4  "
      ]
     },
     "execution_count": 2,
     "metadata": {},
     "output_type": "execute_result"
    }
   ],
   "source": [
    "df = pd.read_csv(\"dataset.csv\")\n",
    "df.sample(5)"
   ]
  },
  {
   "cell_type": "markdown",
   "id": "7121f2df-5e5c-466a-b454-5925943e99c9",
   "metadata": {},
   "source": [
    "# Manipulação de dados"
   ]
  },
  {
   "cell_type": "markdown",
   "id": "b6365726-f757-4aa7-a5dd-ff1154c16109",
   "metadata": {},
   "source": [
    "## 1. Groupby"
   ]
  },
  {
   "cell_type": "code",
   "execution_count": 3,
   "id": "ba163f52-4803-4353-a107-4d897ee921f8",
   "metadata": {},
   "outputs": [
    {
     "data": {
      "text/html": [
       "<div>\n",
       "<style scoped>\n",
       "    .dataframe tbody tr th:only-of-type {\n",
       "        vertical-align: middle;\n",
       "    }\n",
       "\n",
       "    .dataframe tbody tr th {\n",
       "        vertical-align: top;\n",
       "    }\n",
       "\n",
       "    .dataframe thead th {\n",
       "        text-align: right;\n",
       "    }\n",
       "</style>\n",
       "<table border=\"1\" class=\"dataframe\">\n",
       "  <thead>\n",
       "    <tr style=\"text-align: right;\">\n",
       "      <th></th>\n",
       "      <th>distributor</th>\n",
       "      <th>fixed acidity</th>\n",
       "      <th>pH</th>\n",
       "    </tr>\n",
       "  </thead>\n",
       "  <tbody>\n",
       "    <tr>\n",
       "      <th>0</th>\n",
       "      <td>boutique chic</td>\n",
       "      <td>6.842359</td>\n",
       "      <td>3.201796</td>\n",
       "    </tr>\n",
       "    <tr>\n",
       "      <th>1</th>\n",
       "      <td>ice danone</td>\n",
       "      <td>6.917132</td>\n",
       "      <td>3.217246</td>\n",
       "    </tr>\n",
       "    <tr>\n",
       "      <th>2</th>\n",
       "      <td>last poet</td>\n",
       "      <td>7.327224</td>\n",
       "      <td>3.188113</td>\n",
       "    </tr>\n",
       "    <tr>\n",
       "      <th>3</th>\n",
       "      <td>lost watch</td>\n",
       "      <td>7.693617</td>\n",
       "      <td>3.268851</td>\n",
       "    </tr>\n",
       "    <tr>\n",
       "      <th>4</th>\n",
       "      <td>reine ltda</td>\n",
       "      <td>6.678153</td>\n",
       "      <td>3.147750</td>\n",
       "    </tr>\n",
       "    <tr>\n",
       "      <th>5</th>\n",
       "      <td>tico cat</td>\n",
       "      <td>7.010320</td>\n",
       "      <td>3.193895</td>\n",
       "    </tr>\n",
       "  </tbody>\n",
       "</table>\n",
       "</div>"
      ],
      "text/plain": [
       "     distributor  fixed acidity        pH\n",
       "0  boutique chic       6.842359  3.201796\n",
       "1     ice danone       6.917132  3.217246\n",
       "2      last poet       7.327224  3.188113\n",
       "3     lost watch       7.693617  3.268851\n",
       "4     reine ltda       6.678153  3.147750\n",
       "5       tico cat       7.010320  3.193895"
      ]
     },
     "execution_count": 3,
     "metadata": {},
     "output_type": "execute_result"
    }
   ],
   "source": [
    "df_by_distributor = df.groupby(\"distributor\")[[\"fixed acidity\", \"pH\"]].mean()\n",
    "df_by_distributor = df_by_distributor.reset_index()\n",
    "df_by_distributor"
   ]
  },
  {
   "cell_type": "markdown",
   "id": "61bc51e7-e23b-4b29-bc7e-c2b108780391",
   "metadata": {},
   "source": [
    "## 2. Merge"
   ]
  },
  {
   "cell_type": "code",
   "execution_count": 4,
   "id": "cbad67fe-c58d-43a5-ad30-818ca1192a8d",
   "metadata": {},
   "outputs": [
    {
     "data": {
      "text/html": [
       "<div>\n",
       "<style scoped>\n",
       "    .dataframe tbody tr th:only-of-type {\n",
       "        vertical-align: middle;\n",
       "    }\n",
       "\n",
       "    .dataframe tbody tr th {\n",
       "        vertical-align: top;\n",
       "    }\n",
       "\n",
       "    .dataframe thead th {\n",
       "        text-align: right;\n",
       "    }\n",
       "</style>\n",
       "<table border=\"1\" class=\"dataframe\">\n",
       "  <thead>\n",
       "    <tr style=\"text-align: right;\">\n",
       "      <th></th>\n",
       "      <th>distributor</th>\n",
       "      <th>fixed acidity</th>\n",
       "      <th>country</th>\n",
       "      <th>volatile acidity</th>\n",
       "      <th>citric acid</th>\n",
       "      <th>residual sugar</th>\n",
       "      <th>chlorides</th>\n",
       "      <th>free sulfur dioxide</th>\n",
       "      <th>total sulfur dioxide</th>\n",
       "      <th>density</th>\n",
       "      <th>pH</th>\n",
       "      <th>sulphates</th>\n",
       "      <th>alcohol</th>\n",
       "      <th>quality</th>\n",
       "      <th>fixed acidity mean</th>\n",
       "      <th>pH mean</th>\n",
       "    </tr>\n",
       "  </thead>\n",
       "  <tbody>\n",
       "    <tr>\n",
       "      <th>5877</th>\n",
       "      <td>lost watch</td>\n",
       "      <td>12.2</td>\n",
       "      <td>atlantida</td>\n",
       "      <td>0.45</td>\n",
       "      <td>0.49</td>\n",
       "      <td>1.4</td>\n",
       "      <td>0.075</td>\n",
       "      <td>3.0</td>\n",
       "      <td>6.0</td>\n",
       "      <td>0.99690</td>\n",
       "      <td>3.13</td>\n",
       "      <td>0.63</td>\n",
       "      <td>10.4</td>\n",
       "      <td>5</td>\n",
       "      <td>7.693617</td>\n",
       "      <td>3.268851</td>\n",
       "    </tr>\n",
       "    <tr>\n",
       "      <th>2486</th>\n",
       "      <td>tico cat</td>\n",
       "      <td>6.7</td>\n",
       "      <td>south africa</td>\n",
       "      <td>0.24</td>\n",
       "      <td>0.32</td>\n",
       "      <td>10.3</td>\n",
       "      <td>0.079</td>\n",
       "      <td>37.0</td>\n",
       "      <td>122.0</td>\n",
       "      <td>0.99662</td>\n",
       "      <td>3.02</td>\n",
       "      <td>0.45</td>\n",
       "      <td>8.8</td>\n",
       "      <td>5</td>\n",
       "      <td>7.010320</td>\n",
       "      <td>3.193895</td>\n",
       "    </tr>\n",
       "    <tr>\n",
       "      <th>41</th>\n",
       "      <td>boutique chic</td>\n",
       "      <td>6.7</td>\n",
       "      <td>portugal</td>\n",
       "      <td>0.24</td>\n",
       "      <td>0.39</td>\n",
       "      <td>2.9</td>\n",
       "      <td>0.173</td>\n",
       "      <td>63.0</td>\n",
       "      <td>157.0</td>\n",
       "      <td>0.99370</td>\n",
       "      <td>3.10</td>\n",
       "      <td>0.34</td>\n",
       "      <td>9.4</td>\n",
       "      <td>6</td>\n",
       "      <td>6.842359</td>\n",
       "      <td>3.201796</td>\n",
       "    </tr>\n",
       "    <tr>\n",
       "      <th>5486</th>\n",
       "      <td>lost watch</td>\n",
       "      <td>5.0</td>\n",
       "      <td>atlantida</td>\n",
       "      <td>0.42</td>\n",
       "      <td>0.24</td>\n",
       "      <td>2.0</td>\n",
       "      <td>0.060</td>\n",
       "      <td>19.0</td>\n",
       "      <td>50.0</td>\n",
       "      <td>0.99170</td>\n",
       "      <td>3.72</td>\n",
       "      <td>0.74</td>\n",
       "      <td>14</td>\n",
       "      <td>8</td>\n",
       "      <td>7.693617</td>\n",
       "      <td>3.268851</td>\n",
       "    </tr>\n",
       "    <tr>\n",
       "      <th>5407</th>\n",
       "      <td>lost watch</td>\n",
       "      <td>13.3</td>\n",
       "      <td>atlantida</td>\n",
       "      <td>0.29</td>\n",
       "      <td>0.75</td>\n",
       "      <td>2.8</td>\n",
       "      <td>0.084</td>\n",
       "      <td>23.0</td>\n",
       "      <td>43.0</td>\n",
       "      <td>0.99860</td>\n",
       "      <td>3.04</td>\n",
       "      <td>0.68</td>\n",
       "      <td>11.4</td>\n",
       "      <td>7</td>\n",
       "      <td>7.693617</td>\n",
       "      <td>3.268851</td>\n",
       "    </tr>\n",
       "  </tbody>\n",
       "</table>\n",
       "</div>"
      ],
      "text/plain": [
       "        distributor  fixed acidity       country  volatile acidity  \\\n",
       "5877     lost watch           12.2     atlantida              0.45   \n",
       "2486       tico cat            6.7  south africa              0.24   \n",
       "41    boutique chic            6.7      portugal              0.24   \n",
       "5486     lost watch            5.0     atlantida              0.42   \n",
       "5407     lost watch           13.3     atlantida              0.29   \n",
       "\n",
       "      citric acid  residual sugar  chlorides  free sulfur dioxide  \\\n",
       "5877         0.49             1.4      0.075                  3.0   \n",
       "2486         0.32            10.3      0.079                 37.0   \n",
       "41           0.39             2.9      0.173                 63.0   \n",
       "5486         0.24             2.0      0.060                 19.0   \n",
       "5407         0.75             2.8      0.084                 23.0   \n",
       "\n",
       "      total sulfur dioxide  density    pH  sulphates alcohol  quality  \\\n",
       "5877                   6.0  0.99690  3.13       0.63    10.4        5   \n",
       "2486                 122.0  0.99662  3.02       0.45     8.8        5   \n",
       "41                   157.0  0.99370  3.10       0.34     9.4        6   \n",
       "5486                  50.0  0.99170  3.72       0.74      14        8   \n",
       "5407                  43.0  0.99860  3.04       0.68    11.4        7   \n",
       "\n",
       "      fixed acidity mean   pH mean  \n",
       "5877            7.693617  3.268851  \n",
       "2486            7.010320  3.193895  \n",
       "41              6.842359  3.201796  \n",
       "5486            7.693617  3.268851  \n",
       "5407            7.693617  3.268851  "
      ]
     },
     "execution_count": 4,
     "metadata": {},
     "output_type": "execute_result"
    }
   ],
   "source": [
    "df_with_means = df.merge(df_by_distributor, left_on='distributor', right_on='distributor', suffixes=(None, \" mean\"))\n",
    "df_with_means.sample(5)"
   ]
  },
  {
   "cell_type": "markdown",
   "id": "909dcec0-2ee3-45a2-ba23-de9ad0890fc0",
   "metadata": {},
   "source": [
    "## 3. Pivot table"
   ]
  },
  {
   "cell_type": "code",
   "execution_count": 5,
   "id": "69c1f5c5-99d1-4299-b7d9-40cb96a6cae1",
   "metadata": {},
   "outputs": [
    {
     "data": {
      "text/plain": [
       "country            quality\n",
       "atlantida          3          10.004545\n",
       "                   4          10.353125\n",
       "                   5           9.910048\n",
       "                   6          10.767227\n",
       "                   7          11.568406\n",
       "                   8          11.321875\n",
       "canada             3           9.833333\n",
       "                   4           9.866667\n",
       "                   5           9.810476\n",
       "                   6          10.600505\n",
       "                   7          10.959375\n",
       "                   8          11.626667\n",
       "                   9          12.900000\n",
       "greenland          3          10.925000\n",
       "                   4           9.975758\n",
       "                   5           9.756017\n",
       "                   6          10.244984\n",
       "                   7          10.916970\n",
       "                   8          11.397619\n",
       "                   9          12.000000\n",
       "portugal           3          10.375000\n",
       "                   4          10.100000\n",
       "                   5           9.613514\n",
       "                   6          10.037838\n",
       "                   7          11.137113\n",
       "                   8          11.956250\n",
       "south africa       3          10.171429\n",
       "                   4          10.137500\n",
       "                   5           9.801429\n",
       "                   6          10.583938\n",
       "                   7          11.633945\n",
       "                   8          11.722535\n",
       "unit emirate arab  3          10.500000\n",
       "                   4          10.463636\n",
       "                   5           9.934314\n",
       "                   6          10.805846\n",
       "                   7          11.356429\n",
       "                   8          12.647059\n",
       "Name: alcohol, dtype: float64"
      ]
     },
     "execution_count": 5,
     "metadata": {},
     "output_type": "execute_result"
    }
   ],
   "source": [
    "df_alcohol = df\n",
    "df_alcohol['alcohol'] = pd.to_numeric(df_alcohol['alcohol'], errors='coerce')\n",
    "df_alcohol = df_alcohol.dropna(subset=['alcohol'])\n",
    "df_alcohol.groupby(['country', 'quality'])['alcohol'].mean()"
   ]
  },
  {
   "cell_type": "code",
   "execution_count": 6,
   "id": "0e0e9e10-9344-46e4-a9bd-5b6a5cb3ce6f",
   "metadata": {},
   "outputs": [
    {
     "data": {
      "text/html": [
       "<div>\n",
       "<style scoped>\n",
       "    .dataframe tbody tr th:only-of-type {\n",
       "        vertical-align: middle;\n",
       "    }\n",
       "\n",
       "    .dataframe tbody tr th {\n",
       "        vertical-align: top;\n",
       "    }\n",
       "\n",
       "    .dataframe thead th {\n",
       "        text-align: right;\n",
       "    }\n",
       "</style>\n",
       "<table border=\"1\" class=\"dataframe\">\n",
       "  <thead>\n",
       "    <tr style=\"text-align: right;\">\n",
       "      <th>quality</th>\n",
       "      <th>3</th>\n",
       "      <th>4</th>\n",
       "      <th>5</th>\n",
       "      <th>6</th>\n",
       "      <th>7</th>\n",
       "      <th>8</th>\n",
       "      <th>9</th>\n",
       "    </tr>\n",
       "    <tr>\n",
       "      <th>country</th>\n",
       "      <th></th>\n",
       "      <th></th>\n",
       "      <th></th>\n",
       "      <th></th>\n",
       "      <th></th>\n",
       "      <th></th>\n",
       "      <th></th>\n",
       "    </tr>\n",
       "  </thead>\n",
       "  <tbody>\n",
       "    <tr>\n",
       "      <th>atlantida</th>\n",
       "      <td>10.004545</td>\n",
       "      <td>10.353125</td>\n",
       "      <td>9.910048</td>\n",
       "      <td>10.767227</td>\n",
       "      <td>11.568406</td>\n",
       "      <td>11.321875</td>\n",
       "      <td>0.0</td>\n",
       "    </tr>\n",
       "    <tr>\n",
       "      <th>canada</th>\n",
       "      <td>9.833333</td>\n",
       "      <td>9.866667</td>\n",
       "      <td>9.810476</td>\n",
       "      <td>10.600505</td>\n",
       "      <td>10.959375</td>\n",
       "      <td>11.626667</td>\n",
       "      <td>12.9</td>\n",
       "    </tr>\n",
       "    <tr>\n",
       "      <th>greenland</th>\n",
       "      <td>10.925000</td>\n",
       "      <td>9.975758</td>\n",
       "      <td>9.756017</td>\n",
       "      <td>10.244984</td>\n",
       "      <td>10.916970</td>\n",
       "      <td>11.397619</td>\n",
       "      <td>12.0</td>\n",
       "    </tr>\n",
       "    <tr>\n",
       "      <th>portugal</th>\n",
       "      <td>10.375000</td>\n",
       "      <td>10.100000</td>\n",
       "      <td>9.613514</td>\n",
       "      <td>10.037838</td>\n",
       "      <td>11.137113</td>\n",
       "      <td>11.956250</td>\n",
       "      <td>0.0</td>\n",
       "    </tr>\n",
       "    <tr>\n",
       "      <th>south africa</th>\n",
       "      <td>10.171429</td>\n",
       "      <td>10.137500</td>\n",
       "      <td>9.801429</td>\n",
       "      <td>10.583938</td>\n",
       "      <td>11.633945</td>\n",
       "      <td>11.722535</td>\n",
       "      <td>0.0</td>\n",
       "    </tr>\n",
       "    <tr>\n",
       "      <th>unit emirate arab</th>\n",
       "      <td>10.500000</td>\n",
       "      <td>10.463636</td>\n",
       "      <td>9.934314</td>\n",
       "      <td>10.805846</td>\n",
       "      <td>11.356429</td>\n",
       "      <td>12.647059</td>\n",
       "      <td>0.0</td>\n",
       "    </tr>\n",
       "  </tbody>\n",
       "</table>\n",
       "</div>"
      ],
      "text/plain": [
       "quality                    3          4         5          6          7  \\\n",
       "country                                                                   \n",
       "atlantida          10.004545  10.353125  9.910048  10.767227  11.568406   \n",
       "canada              9.833333   9.866667  9.810476  10.600505  10.959375   \n",
       "greenland          10.925000   9.975758  9.756017  10.244984  10.916970   \n",
       "portugal           10.375000  10.100000  9.613514  10.037838  11.137113   \n",
       "south africa       10.171429  10.137500  9.801429  10.583938  11.633945   \n",
       "unit emirate arab  10.500000  10.463636  9.934314  10.805846  11.356429   \n",
       "\n",
       "quality                    8     9  \n",
       "country                             \n",
       "atlantida          11.321875   0.0  \n",
       "canada             11.626667  12.9  \n",
       "greenland          11.397619  12.0  \n",
       "portugal           11.956250   0.0  \n",
       "south africa       11.722535   0.0  \n",
       "unit emirate arab  12.647059   0.0  "
      ]
     },
     "execution_count": 6,
     "metadata": {},
     "output_type": "execute_result"
    }
   ],
   "source": [
    "df_quality_country = df_alcohol.pivot_table(index='country', columns='quality', values='alcohol') # aggfunc = np.mean() by default\n",
    "df_quality_country = df_quality_country.fillna(0.)\n",
    "df_quality_country"
   ]
  },
  {
   "cell_type": "markdown",
   "id": "ca62ddad-c0ec-438f-90f8-92f46fd50e7f",
   "metadata": {},
   "source": [
    "# Machine Learning"
   ]
  },
  {
   "cell_type": "code",
   "execution_count": 7,
   "id": "0fa6ef1f-0e77-4b43-bb4b-e122a4d782e8",
   "metadata": {},
   "outputs": [],
   "source": [
    "# !conda install -c conda-forge imbalanced-learn"
   ]
  },
  {
   "cell_type": "code",
   "execution_count": 58,
   "id": "aca76979-e46a-411f-b9cd-382be140108a",
   "metadata": {},
   "outputs": [],
   "source": [
    "from sklearn.model_selection import train_test_split\n",
    "from sklearn.preprocessing import StandardScaler\n",
    "from sklearn.ensemble import RandomForestClassifier\n",
    "from sklearn.metrics import confusion_matrix, classification_report\n",
    "from imblearn.over_sampling import RandomOverSampler\n",
    "\n",
    "import matplotlib.pyplot as plt\n",
    "import seaborn as sns\n",
    "import pickle"
   ]
  },
  {
   "cell_type": "code",
   "execution_count": 9,
   "id": "435fedd6-110a-4a8c-8f95-3f929a135f17",
   "metadata": {},
   "outputs": [
    {
     "data": {
      "text/html": [
       "<div>\n",
       "<style scoped>\n",
       "    .dataframe tbody tr th:only-of-type {\n",
       "        vertical-align: middle;\n",
       "    }\n",
       "\n",
       "    .dataframe tbody tr th {\n",
       "        vertical-align: top;\n",
       "    }\n",
       "\n",
       "    .dataframe thead th {\n",
       "        text-align: right;\n",
       "    }\n",
       "</style>\n",
       "<table border=\"1\" class=\"dataframe\">\n",
       "  <thead>\n",
       "    <tr style=\"text-align: right;\">\n",
       "      <th></th>\n",
       "      <th>distributor</th>\n",
       "      <th>fixed acidity</th>\n",
       "      <th>country</th>\n",
       "      <th>volatile acidity</th>\n",
       "      <th>citric acid</th>\n",
       "      <th>residual sugar</th>\n",
       "      <th>chlorides</th>\n",
       "      <th>free sulfur dioxide</th>\n",
       "      <th>total sulfur dioxide</th>\n",
       "      <th>density</th>\n",
       "      <th>pH</th>\n",
       "      <th>sulphates</th>\n",
       "      <th>alcohol</th>\n",
       "      <th>quality</th>\n",
       "    </tr>\n",
       "  </thead>\n",
       "  <tbody>\n",
       "    <tr>\n",
       "      <th>3484</th>\n",
       "      <td>reine ltda</td>\n",
       "      <td>6.2</td>\n",
       "      <td>south africa</td>\n",
       "      <td>0.37</td>\n",
       "      <td>0.24</td>\n",
       "      <td>6.1</td>\n",
       "      <td>0.032</td>\n",
       "      <td>19.0</td>\n",
       "      <td>86.0</td>\n",
       "      <td>0.98934</td>\n",
       "      <td>3.04</td>\n",
       "      <td>0.26</td>\n",
       "      <td>13.4</td>\n",
       "      <td>8</td>\n",
       "    </tr>\n",
       "    <tr>\n",
       "      <th>2029</th>\n",
       "      <td>tico cat</td>\n",
       "      <td>7.6</td>\n",
       "      <td>south africa</td>\n",
       "      <td>0.34</td>\n",
       "      <td>0.39</td>\n",
       "      <td>7.6</td>\n",
       "      <td>0.040</td>\n",
       "      <td>45.0</td>\n",
       "      <td>215.0</td>\n",
       "      <td>0.99650</td>\n",
       "      <td>3.11</td>\n",
       "      <td>0.53</td>\n",
       "      <td>9.2</td>\n",
       "      <td>6</td>\n",
       "    </tr>\n",
       "    <tr>\n",
       "      <th>1617</th>\n",
       "      <td>tico cat</td>\n",
       "      <td>6.2</td>\n",
       "      <td>canada</td>\n",
       "      <td>0.20</td>\n",
       "      <td>0.49</td>\n",
       "      <td>1.6</td>\n",
       "      <td>0.065</td>\n",
       "      <td>17.0</td>\n",
       "      <td>143.0</td>\n",
       "      <td>0.99370</td>\n",
       "      <td>3.22</td>\n",
       "      <td>0.52</td>\n",
       "      <td>9.2</td>\n",
       "      <td>6</td>\n",
       "    </tr>\n",
       "    <tr>\n",
       "      <th>4353</th>\n",
       "      <td>lost watch</td>\n",
       "      <td>7.4</td>\n",
       "      <td>atlantida</td>\n",
       "      <td>0.16</td>\n",
       "      <td>0.30</td>\n",
       "      <td>1.4</td>\n",
       "      <td>0.064</td>\n",
       "      <td>34.0</td>\n",
       "      <td>166.0</td>\n",
       "      <td>0.99136</td>\n",
       "      <td>3.11</td>\n",
       "      <td>0.42</td>\n",
       "      <td>NaN</td>\n",
       "      <td>6</td>\n",
       "    </tr>\n",
       "    <tr>\n",
       "      <th>1853</th>\n",
       "      <td>tico cat</td>\n",
       "      <td>8.3</td>\n",
       "      <td>south africa</td>\n",
       "      <td>0.27</td>\n",
       "      <td>0.39</td>\n",
       "      <td>2.4</td>\n",
       "      <td>0.058</td>\n",
       "      <td>16.0</td>\n",
       "      <td>107.0</td>\n",
       "      <td>0.99550</td>\n",
       "      <td>3.28</td>\n",
       "      <td>0.59</td>\n",
       "      <td>10.3</td>\n",
       "      <td>5</td>\n",
       "    </tr>\n",
       "  </tbody>\n",
       "</table>\n",
       "</div>"
      ],
      "text/plain": [
       "     distributor  fixed acidity       country  volatile acidity  citric acid  \\\n",
       "3484  reine ltda            6.2  south africa              0.37         0.24   \n",
       "2029    tico cat            7.6  south africa              0.34         0.39   \n",
       "1617    tico cat            6.2        canada              0.20         0.49   \n",
       "4353  lost watch            7.4     atlantida              0.16         0.30   \n",
       "1853    tico cat            8.3  south africa              0.27         0.39   \n",
       "\n",
       "      residual sugar  chlorides  free sulfur dioxide  total sulfur dioxide  \\\n",
       "3484             6.1      0.032                 19.0                  86.0   \n",
       "2029             7.6      0.040                 45.0                 215.0   \n",
       "1617             1.6      0.065                 17.0                 143.0   \n",
       "4353             1.4      0.064                 34.0                 166.0   \n",
       "1853             2.4      0.058                 16.0                 107.0   \n",
       "\n",
       "      density    pH  sulphates  alcohol  quality  \n",
       "3484  0.98934  3.04       0.26     13.4        8  \n",
       "2029  0.99650  3.11       0.53      9.2        6  \n",
       "1617  0.99370  3.22       0.52      9.2        6  \n",
       "4353  0.99136  3.11       0.42      NaN        6  \n",
       "1853  0.99550  3.28       0.59     10.3        5  "
      ]
     },
     "execution_count": 9,
     "metadata": {},
     "output_type": "execute_result"
    }
   ],
   "source": [
    "df.sample(5)"
   ]
  },
  {
   "cell_type": "markdown",
   "id": "252b5a0d-eb46-4649-869d-4d8726af3275",
   "metadata": {},
   "source": [
    "## 1. Preprocessing"
   ]
  },
  {
   "cell_type": "markdown",
   "id": "d39215d9-aa05-4bca-9a3d-5d18bad76bc8",
   "metadata": {},
   "source": [
    "### Drop NaN"
   ]
  },
  {
   "cell_type": "code",
   "execution_count": 57,
   "id": "0aa6c63b-50eb-4d41-96f7-4fa32b47e8d0",
   "metadata": {},
   "outputs": [
    {
     "data": {
      "text/plain": [
       "False"
      ]
     },
     "execution_count": 57,
     "metadata": {},
     "output_type": "execute_result"
    }
   ],
   "source": [
    "df.isnull().values.any()"
   ]
  },
  {
   "cell_type": "code",
   "execution_count": 11,
   "id": "1285d3f9-17f2-4260-9b9e-dfe081259da6",
   "metadata": {},
   "outputs": [],
   "source": [
    "df = df.dropna()"
   ]
  },
  {
   "cell_type": "markdown",
   "id": "d633c9e0-b66f-445a-893f-0e4e2b16451e",
   "metadata": {},
   "source": [
    "### Factorize textual values"
   ]
  },
  {
   "cell_type": "code",
   "execution_count": 13,
   "id": "040fb972-5323-4e09-be0a-a871dc8a7920",
   "metadata": {},
   "outputs": [
    {
     "data": {
      "text/plain": [
       "Index(['boutique chic', 'ice danone', 'last poet', 'tico cat', 'reine ltda',\n",
       "       'lost watch'],\n",
       "      dtype='object')"
      ]
     },
     "execution_count": 13,
     "metadata": {},
     "output_type": "execute_result"
    }
   ],
   "source": [
    "factor = pd.factorize(df['distributor'])\n",
    "df['distributor'] = factor[0]\n",
    "distributor_definitions = factor[1]\n",
    "distributor_definitions"
   ]
  },
  {
   "cell_type": "code",
   "execution_count": 14,
   "id": "0a9d7100-e642-45c4-b715-a561b46c2c4e",
   "metadata": {},
   "outputs": [
    {
     "data": {
      "text/plain": [
       "Index(['portugal', 'greenland', 'canada', 'south africa', 'unit emirate arab',\n",
       "       'atlantida'],\n",
       "      dtype='object')"
      ]
     },
     "execution_count": 14,
     "metadata": {},
     "output_type": "execute_result"
    }
   ],
   "source": [
    "factor = pd.factorize(df['country'])\n",
    "df['country'] = factor[0]\n",
    "country_definitions = factor[1]\n",
    "country_definitions"
   ]
  },
  {
   "cell_type": "code",
   "execution_count": 15,
   "id": "382352da-7302-48e0-aaf1-3ce49db97a20",
   "metadata": {},
   "outputs": [
    {
     "data": {
      "text/html": [
       "<div>\n",
       "<style scoped>\n",
       "    .dataframe tbody tr th:only-of-type {\n",
       "        vertical-align: middle;\n",
       "    }\n",
       "\n",
       "    .dataframe tbody tr th {\n",
       "        vertical-align: top;\n",
       "    }\n",
       "\n",
       "    .dataframe thead th {\n",
       "        text-align: right;\n",
       "    }\n",
       "</style>\n",
       "<table border=\"1\" class=\"dataframe\">\n",
       "  <thead>\n",
       "    <tr style=\"text-align: right;\">\n",
       "      <th></th>\n",
       "      <th>distributor</th>\n",
       "      <th>fixed acidity</th>\n",
       "      <th>country</th>\n",
       "      <th>volatile acidity</th>\n",
       "      <th>citric acid</th>\n",
       "      <th>residual sugar</th>\n",
       "      <th>chlorides</th>\n",
       "      <th>free sulfur dioxide</th>\n",
       "      <th>total sulfur dioxide</th>\n",
       "      <th>density</th>\n",
       "      <th>pH</th>\n",
       "      <th>sulphates</th>\n",
       "      <th>alcohol</th>\n",
       "      <th>quality</th>\n",
       "    </tr>\n",
       "  </thead>\n",
       "  <tbody>\n",
       "    <tr>\n",
       "      <th>26</th>\n",
       "      <td>0</td>\n",
       "      <td>6.9</td>\n",
       "      <td>0</td>\n",
       "      <td>0.24</td>\n",
       "      <td>0.35</td>\n",
       "      <td>1.00</td>\n",
       "      <td>0.052</td>\n",
       "      <td>35.0</td>\n",
       "      <td>146.0</td>\n",
       "      <td>0.9930</td>\n",
       "      <td>3.45</td>\n",
       "      <td>0.44</td>\n",
       "      <td>10.0</td>\n",
       "      <td>6</td>\n",
       "    </tr>\n",
       "    <tr>\n",
       "      <th>156</th>\n",
       "      <td>0</td>\n",
       "      <td>7.4</td>\n",
       "      <td>0</td>\n",
       "      <td>0.24</td>\n",
       "      <td>0.42</td>\n",
       "      <td>14.00</td>\n",
       "      <td>0.066</td>\n",
       "      <td>48.0</td>\n",
       "      <td>198.0</td>\n",
       "      <td>0.9979</td>\n",
       "      <td>2.89</td>\n",
       "      <td>0.42</td>\n",
       "      <td>8.9</td>\n",
       "      <td>6</td>\n",
       "    </tr>\n",
       "    <tr>\n",
       "      <th>5404</th>\n",
       "      <td>5</td>\n",
       "      <td>10.4</td>\n",
       "      <td>5</td>\n",
       "      <td>0.24</td>\n",
       "      <td>0.46</td>\n",
       "      <td>1.80</td>\n",
       "      <td>0.075</td>\n",
       "      <td>6.0</td>\n",
       "      <td>21.0</td>\n",
       "      <td>0.9976</td>\n",
       "      <td>3.25</td>\n",
       "      <td>1.02</td>\n",
       "      <td>10.8</td>\n",
       "      <td>7</td>\n",
       "    </tr>\n",
       "    <tr>\n",
       "      <th>3619</th>\n",
       "      <td>4</td>\n",
       "      <td>6.8</td>\n",
       "      <td>4</td>\n",
       "      <td>0.45</td>\n",
       "      <td>0.28</td>\n",
       "      <td>26.05</td>\n",
       "      <td>0.031</td>\n",
       "      <td>27.0</td>\n",
       "      <td>122.0</td>\n",
       "      <td>100.2950</td>\n",
       "      <td>3.06</td>\n",
       "      <td>0.42</td>\n",
       "      <td>10.6</td>\n",
       "      <td>6</td>\n",
       "    </tr>\n",
       "    <tr>\n",
       "      <th>1463</th>\n",
       "      <td>2</td>\n",
       "      <td>8.3</td>\n",
       "      <td>2</td>\n",
       "      <td>0.19</td>\n",
       "      <td>0.49</td>\n",
       "      <td>1.20</td>\n",
       "      <td>0.051</td>\n",
       "      <td>11.0</td>\n",
       "      <td>137.0</td>\n",
       "      <td>0.9918</td>\n",
       "      <td>3.06</td>\n",
       "      <td>0.46</td>\n",
       "      <td>11.0</td>\n",
       "      <td>6</td>\n",
       "    </tr>\n",
       "  </tbody>\n",
       "</table>\n",
       "</div>"
      ],
      "text/plain": [
       "      distributor  fixed acidity  country  volatile acidity  citric acid  \\\n",
       "26              0            6.9        0              0.24         0.35   \n",
       "156             0            7.4        0              0.24         0.42   \n",
       "5404            5           10.4        5              0.24         0.46   \n",
       "3619            4            6.8        4              0.45         0.28   \n",
       "1463            2            8.3        2              0.19         0.49   \n",
       "\n",
       "      residual sugar  chlorides  free sulfur dioxide  total sulfur dioxide  \\\n",
       "26              1.00      0.052                 35.0                 146.0   \n",
       "156            14.00      0.066                 48.0                 198.0   \n",
       "5404            1.80      0.075                  6.0                  21.0   \n",
       "3619           26.05      0.031                 27.0                 122.0   \n",
       "1463            1.20      0.051                 11.0                 137.0   \n",
       "\n",
       "       density    pH  sulphates  alcohol  quality  \n",
       "26      0.9930  3.45       0.44     10.0        6  \n",
       "156     0.9979  2.89       0.42      8.9        6  \n",
       "5404    0.9976  3.25       1.02     10.8        7  \n",
       "3619  100.2950  3.06       0.42     10.6        6  \n",
       "1463    0.9918  3.06       0.46     11.0        6  "
      ]
     },
     "execution_count": 15,
     "metadata": {},
     "output_type": "execute_result"
    }
   ],
   "source": [
    "df.sample(5)"
   ]
  },
  {
   "cell_type": "markdown",
   "id": "5425dc85-a8e2-47d0-980e-671c8999880f",
   "metadata": {},
   "source": [
    "## 2. Train/Test"
   ]
  },
  {
   "cell_type": "code",
   "execution_count": 16,
   "id": "96f832f1-c96a-4b88-805a-dc27069da008",
   "metadata": {},
   "outputs": [
    {
     "name": "stdout",
     "output_type": "stream",
     "text": [
      "5\n",
      "30\n"
     ]
    }
   ],
   "source": [
    "X = df.iloc[:,0:13].values\n",
    "y = df.iloc[:,13].values\n",
    "print(np.count_nonzero(y == 9))\n",
    "print(np.count_nonzero(y == 3))\n",
    "# data is highly unbalanced"
   ]
  },
  {
   "cell_type": "markdown",
   "id": "0eb9bb9b-ed23-411f-baf9-0462c7f0625f",
   "metadata": {},
   "source": [
    "### Oversampling"
   ]
  },
  {
   "cell_type": "code",
   "execution_count": 17,
   "id": "cb477998-abbb-4157-9af6-2ef0fa141d61",
   "metadata": {},
   "outputs": [
    {
     "name": "stdout",
     "output_type": "stream",
     "text": [
      "2815\n",
      "2815\n"
     ]
    }
   ],
   "source": [
    "over_sampler = RandomOverSampler(sampling_strategy='minority', random_state=42)\n",
    "X, y = over_sampler.fit_resample(X, y)\n",
    "X, y = over_sampler.fit_resample(X, y)\n",
    "print(np.count_nonzero(y == 9))\n",
    "print(np.count_nonzero(y == 3))"
   ]
  },
  {
   "cell_type": "markdown",
   "id": "4a828d07-5885-48c3-a2d6-72035070eb22",
   "metadata": {},
   "source": [
    "### Split"
   ]
  },
  {
   "cell_type": "code",
   "execution_count": 18,
   "id": "ab14472a-c5cf-447a-988c-134873307c82",
   "metadata": {},
   "outputs": [],
   "source": [
    "X_train, X_test, y_train, y_test = train_test_split(X, y, test_size = 0.30, random_state = 42)"
   ]
  },
  {
   "cell_type": "markdown",
   "id": "d312b46d-673e-4610-b52b-8b66e004216a",
   "metadata": {},
   "source": [
    "### Fit/Predict"
   ]
  },
  {
   "cell_type": "code",
   "execution_count": 19,
   "id": "fd0d753c-7302-4c2c-9fb2-3ebe620b7626",
   "metadata": {},
   "outputs": [],
   "source": [
    "scaler = StandardScaler()\n",
    "X_train = scaler.fit_transform(X_train)\n",
    "X_test = scaler.transform(X_test)"
   ]
  },
  {
   "cell_type": "code",
   "execution_count": 50,
   "id": "6d0910fb-9ebb-4bdd-9302-a37a6c29b5ec",
   "metadata": {},
   "outputs": [
    {
     "data": {
      "text/html": [
       "<style>#sk-container-id-7 {color: black;background-color: white;}#sk-container-id-7 pre{padding: 0;}#sk-container-id-7 div.sk-toggleable {background-color: white;}#sk-container-id-7 label.sk-toggleable__label {cursor: pointer;display: block;width: 100%;margin-bottom: 0;padding: 0.3em;box-sizing: border-box;text-align: center;}#sk-container-id-7 label.sk-toggleable__label-arrow:before {content: \"▸\";float: left;margin-right: 0.25em;color: #696969;}#sk-container-id-7 label.sk-toggleable__label-arrow:hover:before {color: black;}#sk-container-id-7 div.sk-estimator:hover label.sk-toggleable__label-arrow:before {color: black;}#sk-container-id-7 div.sk-toggleable__content {max-height: 0;max-width: 0;overflow: hidden;text-align: left;background-color: #f0f8ff;}#sk-container-id-7 div.sk-toggleable__content pre {margin: 0.2em;color: black;border-radius: 0.25em;background-color: #f0f8ff;}#sk-container-id-7 input.sk-toggleable__control:checked~div.sk-toggleable__content {max-height: 200px;max-width: 100%;overflow: auto;}#sk-container-id-7 input.sk-toggleable__control:checked~label.sk-toggleable__label-arrow:before {content: \"▾\";}#sk-container-id-7 div.sk-estimator input.sk-toggleable__control:checked~label.sk-toggleable__label {background-color: #d4ebff;}#sk-container-id-7 div.sk-label input.sk-toggleable__control:checked~label.sk-toggleable__label {background-color: #d4ebff;}#sk-container-id-7 input.sk-hidden--visually {border: 0;clip: rect(1px 1px 1px 1px);clip: rect(1px, 1px, 1px, 1px);height: 1px;margin: -1px;overflow: hidden;padding: 0;position: absolute;width: 1px;}#sk-container-id-7 div.sk-estimator {font-family: monospace;background-color: #f0f8ff;border: 1px dotted black;border-radius: 0.25em;box-sizing: border-box;margin-bottom: 0.5em;}#sk-container-id-7 div.sk-estimator:hover {background-color: #d4ebff;}#sk-container-id-7 div.sk-parallel-item::after {content: \"\";width: 100%;border-bottom: 1px solid gray;flex-grow: 1;}#sk-container-id-7 div.sk-label:hover label.sk-toggleable__label {background-color: #d4ebff;}#sk-container-id-7 div.sk-serial::before {content: \"\";position: absolute;border-left: 1px solid gray;box-sizing: border-box;top: 0;bottom: 0;left: 50%;z-index: 0;}#sk-container-id-7 div.sk-serial {display: flex;flex-direction: column;align-items: center;background-color: white;padding-right: 0.2em;padding-left: 0.2em;position: relative;}#sk-container-id-7 div.sk-item {position: relative;z-index: 1;}#sk-container-id-7 div.sk-parallel {display: flex;align-items: stretch;justify-content: center;background-color: white;position: relative;}#sk-container-id-7 div.sk-item::before, #sk-container-id-7 div.sk-parallel-item::before {content: \"\";position: absolute;border-left: 1px solid gray;box-sizing: border-box;top: 0;bottom: 0;left: 50%;z-index: -1;}#sk-container-id-7 div.sk-parallel-item {display: flex;flex-direction: column;z-index: 1;position: relative;background-color: white;}#sk-container-id-7 div.sk-parallel-item:first-child::after {align-self: flex-end;width: 50%;}#sk-container-id-7 div.sk-parallel-item:last-child::after {align-self: flex-start;width: 50%;}#sk-container-id-7 div.sk-parallel-item:only-child::after {width: 0;}#sk-container-id-7 div.sk-dashed-wrapped {border: 1px dashed gray;margin: 0 0.4em 0.5em 0.4em;box-sizing: border-box;padding-bottom: 0.4em;background-color: white;}#sk-container-id-7 div.sk-label label {font-family: monospace;font-weight: bold;display: inline-block;line-height: 1.2em;}#sk-container-id-7 div.sk-label-container {text-align: center;}#sk-container-id-7 div.sk-container {/* jupyter's `normalize.less` sets `[hidden] { display: none; }` but bootstrap.min.css set `[hidden] { display: none !important; }` so we also need the `!important` here to be able to override the default hidden behavior on the sphinx rendered scikit-learn.org. See: https://github.com/scikit-learn/scikit-learn/issues/21755 */display: inline-block !important;position: relative;}#sk-container-id-7 div.sk-text-repr-fallback {display: none;}</style><div id=\"sk-container-id-7\" class=\"sk-top-container\"><div class=\"sk-text-repr-fallback\"><pre>RandomForestClassifier(criterion=&#x27;entropy&#x27;, n_estimators=25, random_state=42)</pre><b>In a Jupyter environment, please rerun this cell to show the HTML representation or trust the notebook. <br />On GitHub, the HTML representation is unable to render, please try loading this page with nbviewer.org.</b></div><div class=\"sk-container\" hidden><div class=\"sk-item\"><div class=\"sk-estimator sk-toggleable\"><input class=\"sk-toggleable__control sk-hidden--visually\" id=\"sk-estimator-id-7\" type=\"checkbox\" checked><label for=\"sk-estimator-id-7\" class=\"sk-toggleable__label sk-toggleable__label-arrow\">RandomForestClassifier</label><div class=\"sk-toggleable__content\"><pre>RandomForestClassifier(criterion=&#x27;entropy&#x27;, n_estimators=25, random_state=42)</pre></div></div></div></div></div>"
      ],
      "text/plain": [
       "RandomForestClassifier(criterion='entropy', n_estimators=25, random_state=42)"
      ]
     },
     "execution_count": 50,
     "metadata": {},
     "output_type": "execute_result"
    }
   ],
   "source": [
    "classifier = RandomForestClassifier(n_estimators = 25, criterion = 'entropy', random_state = 42)\n",
    "classifier.fit(X_train, y_train)"
   ]
  },
  {
   "cell_type": "code",
   "execution_count": 51,
   "id": "394ddfab-c2cf-48c9-a034-93cebe65a1ff",
   "metadata": {},
   "outputs": [],
   "source": [
    "y_pred = classifier.predict(X_test)"
   ]
  },
  {
   "cell_type": "markdown",
   "id": "225fb2ad-c343-465c-be84-5121020d8e00",
   "metadata": {},
   "source": [
    "### Evaluation"
   ]
  },
  {
   "cell_type": "code",
   "execution_count": 52,
   "id": "f188fea8-5929-4e58-bcd2-b9ef9901768a",
   "metadata": {},
   "outputs": [
    {
     "data": {
      "text/plain": [
       "set()"
      ]
     },
     "execution_count": 52,
     "metadata": {},
     "output_type": "execute_result"
    }
   ],
   "source": [
    "set(y_test) - set(y_pred) # is there any data present in test, but missing in pred?"
   ]
  },
  {
   "cell_type": "code",
   "execution_count": 53,
   "id": "49c4eca7-e31a-406f-b1fe-eb6b2eba5837",
   "metadata": {},
   "outputs": [
    {
     "name": "stdout",
     "output_type": "stream",
     "text": [
      "Predicted Qualities    3   4    5    6    7   8    9\n",
      "True Qualities                                      \n",
      "3                    836   0    0    0    0   0    0\n",
      "4                      2  10   38   16    1   0    0\n",
      "5                      1   6  444  153    6   1    0\n",
      "6                      0   1  165  661   46   3    0\n",
      "7                      1   0   13  170  155   3    0\n",
      "8                      0   0    0   23   15  17    0\n",
      "9                      0   0    0    0    0   0  829\n"
     ]
    }
   ],
   "source": [
    "print(pd.crosstab(y_test, y_pred, rownames=['True Qualities'], colnames=['Predicted Qualities']))"
   ]
  },
  {
   "cell_type": "code",
   "execution_count": 54,
   "id": "24a32aaa-dbbb-4466-abf1-02d450c775a8",
   "metadata": {},
   "outputs": [
    {
     "name": "stdout",
     "output_type": "stream",
     "text": [
      "              precision    recall  f1-score   support\n",
      "\n",
      "           3       1.00      1.00      1.00       836\n",
      "           4       0.59      0.15      0.24        67\n",
      "           5       0.67      0.73      0.70       611\n",
      "           6       0.65      0.75      0.70       876\n",
      "           7       0.70      0.45      0.55       342\n",
      "           8       0.71      0.31      0.43        55\n",
      "           9       1.00      1.00      1.00       829\n",
      "\n",
      "    accuracy                           0.82      3616\n",
      "   macro avg       0.76      0.63      0.66      3616\n",
      "weighted avg       0.82      0.82      0.81      3616\n",
      "\n"
     ]
    }
   ],
   "source": [
    "print(classification_report(y_test, y_pred, zero_division=0))"
   ]
  },
  {
   "cell_type": "markdown",
   "id": "a0b4dcf3-177e-433c-826c-e67f3b2f8cb9",
   "metadata": {},
   "source": [
    "## 3. Serialize"
   ]
  },
  {
   "cell_type": "code",
   "execution_count": 59,
   "id": "967defa6-72ce-461a-aa1b-d4255e25c8b7",
   "metadata": {},
   "outputs": [],
   "source": [
    "filename = 'vinegar.pkl'\n",
    "pickle.dump(classifier, open(filename, 'wb'))"
   ]
  }
 ],
 "metadata": {
  "kernelspec": {
   "display_name": "loopt",
   "language": "python",
   "name": "loopt"
  },
  "language_info": {
   "codemirror_mode": {
    "name": "ipython",
    "version": 3
   },
   "file_extension": ".py",
   "mimetype": "text/x-python",
   "name": "python",
   "nbconvert_exporter": "python",
   "pygments_lexer": "ipython3",
   "version": "3.10.4"
  }
 },
 "nbformat": 4,
 "nbformat_minor": 5
}
